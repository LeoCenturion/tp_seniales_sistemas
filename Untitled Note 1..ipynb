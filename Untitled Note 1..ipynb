﻿{
  "metadata": {
    "name": "Untitled Note 1",
    "kernelspec": {
      "language": "scala",
      "name": "spark2-scala"
    },
    "language_info": {
      "codemirror_mode": "text/x-scala",
      "file_extension": ".scala",
      "mimetype": "text/x-scala",
      "name": "scala",
      "pygments_lexer": "scala"
    }
  },
  "nbformat": 4,
  "nbformat_minor": 2,
  "cells": [
    {
      "cell_type": "code",
      "execution_count": 0,
      "metadata": {
        "autoscroll": "auto"
      },
      "outputs": [],
      "source": "%python.ipython\nimport pandas as pd\nimport matplotlib.pyplot as plt\nimport matplotlib as mplt\nfrom matplotlib import mlab\n\nimport numpy as np\nfrom scipy import signal\nimport soundfile as sf\nimport itertools as i\nimport more_itertools as mi\nimport functools\n"
    },
    {
      "cell_type": "code",
      "execution_count": 1,
      "metadata": {
        "autoscroll": "auto"
      },
      "outputs": [],
      "source": "%python.ipython\n"
    },
    {
      "cell_type": "code",
      "execution_count": 2,
      "metadata": {
        "autoscroll": "auto"
      },
      "outputs": [],
      "source": "%python.ipython\n\ndata, samplerate \u003d sf.read(\"/home/leonardo/Documents/seniales/tp/extras/Pink.ogg\")"
    },
    {
      "cell_type": "code",
      "execution_count": 3,
      "metadata": {
        "autoscroll": "auto"
      },
      "outputs": [],
      "source": "\ndf \u003d pd.DataFrame(data)\ndf[\u0027t\u0027] \u003d df.index /samplerate\ndf[\u0027avg\u0027] \u003d df[[0,1]].apply( np.average, axis\u003d1)\n\n"
    },
    {
      "cell_type": "code",
      "execution_count": 4,
      "metadata": {
        "autoscroll": "auto"
      },
      "outputs": [],
      "source": "df[\u0027fft\u0027] \u003d np.fft.fft(df[\u0027avg\u0027])"
    },
    {
      "cell_type": "code",
      "execution_count": 5,
      "metadata": {
        "autoscroll": "auto"
      },
      "outputs": [],
      "source": "%python.ipython\n%matplotlib inline\n\nfig \u003d plt.figure(figsize\u003d(20,8))\n\nax \u003d plt.subplot(311)\nax.set_xlabel(\u0027time [s]\u0027)\nax.set_ylabel(\u0027Amplitude\u0027)\nax.set_title(\u0027Original signal over time\u0027)\nplt.plot(df[\u0027t\u0027], df[\u0027avg\u0027])\n\n\nax \u003d plt.subplot(312)\nax.set_title(\u0027Spectral density of the original signal\u0027)\nplt.psd(df[\u0027avg\u0027],  Fs \u003d samplerate);\n\nfft \u003d np.fft.fft(df[\u0027avg\u0027])\nfreq \u003d np.fft.fftfreq(df[\u0027t\u0027].shape[-1], 1/samplerate)\n\nax \u003d plt.subplot(313)\nax.set_xlabel(\u0027time [s]\u0027)\nax.set_ylabel(\u0027Amplitude\u0027)\nax.set_title(\u0027Absolute value of the fft of the original signal\u0027)\nplt.plot(freq, abs(fft))\n\nfig.tight_layout()\nplt.show()"
    },
    {
      "cell_type": "markdown",
      "metadata": {},
      "source": "### Punto 3\n## Cual es la resolución enfrecuencia de cada ventana?\nLa resolución de la ventana es igual a fs/ N, donde fs es la frecuencia de sampling (44100hs) y N es la longitud de la ventana\n\n## qué ventaja tiene utilizar la ventana de Hammingfrente a la rectangular?\nLa ventana de Hamming es más eficiente en el sentido que presenta una lobulo principal mas angosto y unos lobulos seucndarios mas pequeños que la ventana rectangular para la mísma cantidad de muestras\n"
    },
    {
      "cell_type": "code",
      "execution_count": 7,
      "metadata": {
        "autoscroll": "auto"
      },
      "outputs": [],
      "source": "number_of_points \u003d lambda time_mils, samplerate: int((time_mils/1000)*samplerate)\nnumber_of_points(1,samplerate)"
    },
    {
      "cell_type": "code",
      "execution_count": 8,
      "metadata": {
        "autoscroll": "auto"
      },
      "outputs": [],
      "source": "%python.ipython\n%matplotlib inline\nimport matplotlib.pyplot as p\nwindow_length \u003d number_of_points(0.5, samplerate)\ntotal_length \u003d window_length*5\ncenter \u003d total_length/2\nwindow \u003d np.concatenate((np.zeros(int(center - window_length)), signal.windows.boxcar(window_length*2), np.zeros(int(total_length - center - window_length))), axis\u003dNone)\n\nfig \u003d p.figure(figsize\u003d(20,8))\n\nax \u003d p.subplot(211)\nax.set_xlabel(\u0027time [s]\u0027)\nax.set_ylabel(\u0027Amplitude\u0027)\nax.set_title(\u0027Square (boxcar) window over time\u0027)\np.plot(np.array(range(window.size))/samplerate , window)\n\n\nax \u003d p.subplot(212)\nax.set_title(\u0027Specral density of the square window\u0027)\ns, freq\u003d  p.psd(window,  Fs \u003d samplerate);\nax.set_xticks(freq[::3])\nfig.tight_layout()"
    },
    {
      "cell_type": "code",
      "execution_count": 9,
      "metadata": {
        "autoscroll": "auto"
      },
      "outputs": [],
      "source": "%python.ipython\n%matplotlib inline\n\n\nwindow_length \u003d number_of_points(0.5, samplerate)\ntotal_length \u003d window_length*5\ncenter \u003d total_length/2\nwindow \u003d np.concatenate((np.zeros(int(center - window_length)), signal.windows.hamming(window_length*2), np.zeros(int(total_length - center - window_length))), axis\u003dNone)\n\nfig \u003d p.figure(figsize\u003d(20,8))\n\nax \u003d p.subplot(211)\nax.set_xlabel(\u0027time [s]\u0027)\nax.set_ylabel(\u0027Amplitude\u0027)\nax.set_title(\u0027Hamming window over time\u0027)\np.plot(np.array(range(window.size))/samplerate , window)\n\nax \u003d p.subplot(212)\nax.set_title(\u0027Specral density of the hamming window\u0027)\ns, freq\u003d  p.psd(window,  Fs \u003d samplerate);\nax.set_xticks(freq[::3])\n\nfig.tight_layout()"
    },
    {
      "cell_type": "code",
      "execution_count": 10,
      "metadata": {
        "autoscroll": "auto"
      },
      "outputs": [],
      "source": "%python.ipython\n%matplotlib inline\n\nwindow \u003d np.concatenate((np.zeros(100), signal.windows.boxcar(10), np.zeros(100)), axis\u003dNone)\n# f, t, Sxx \u003d signal.spectrogram(window, samplerate)\n\n# p.subplot(211)\n# p.pcolormesh(t, f, Sxx*10**3, shading\u003d\u0027gouraud\u0027)\n# p.show()\np.figure(figsize\u003d(20,8))\np.subplot(211)\np.specgram(df[\u0027avg\u0027], Fs\u003dsamplerate, NFFT\u003d500, window\u003dmplt.mlab.window_hanning)\np.subplot(212)\np.specgram(df[\u0027avg\u0027], Fs\u003dsamplerate, NFFT\u003d256, window\u003dmplt.mlab.window_none)\n\np.show()"
    },
    {
      "cell_type": "markdown",
      "metadata": {},
      "source": "### Ejercicio 4.\nImplemente un sistema para reducir la frecuencia de muestreo del audio, de 44100 Hz a 5512.5Hz. Muestre un diagrama en bloques y justifique su diseño. Diseñe el filtro pasabajos mediante el método de ventaneo explicando y justificando las decisiones, de forma tal que su retardo sea menor a 1 ms. Graficar undiagrama de polos y ceros, respuesta en frecuencia (módulo y fase), respuesta al impulso, y retardo de grupo\n\n\nx[n] -\u003e pasabajos -\u003e ↓8 \nCuando la señal se corta aparecen discontinuidades lo que provoca altas frecuencias entonces primero se aplica un pasabajos para evitar aliasing. El pasabajos tiene que ser de tal forma que tenga retardo menor al 1ms. El retardo está dado por N/2 donde N es el orden del filtro. Como el sampling original es de 44100Hz para que el retardo sea menor a 1ms entonces N debe ser menor a 88 (en un milisegundo hay 44.1 muestras). \n\n"
    },
    {
      "cell_type": "code",
      "execution_count": 12,
      "metadata": {
        "autoscroll": "auto"
      },
      "outputs": [],
      "source": "%python.ipython\n%matplotlib inline\n\nFs \u003d samplerate\nnyq \u003d Fs / 2\nlength \u003d 80\nF_high \u003d 5512/2\nb \u003d signal.firwin(length, cutoff \u003d F_high / nyq, window\u003d\"hann\")\nop_1 \u003d signal.lfilter(b, 1, df[\u0027avg\u0027])\nfft \u003d np.fft.fft(op_1)\nfreq \u003d np.fft.fftfreq(df[\u0027t\u0027].shape[-1], 1/samplerate)\ndf[\u0027avg_filtered\u0027] \u003d op_1\ndf[\u0027avg_filtered_fft\u0027] \u003d fft\n\n\nfig \u003d p.figure(figsize\u003d(20,8))\nax \u003d p.subplot(311)\nax.set_xlabel(\u0027time [s]\u0027)\nax.set_ylabel(\u0027Amplitude\u0027)\nax.set_title(\u0027Original signal after aplying a low pass filter with a hanning window\u0027)\np.plot(df[\u0027t\u0027], df[\u0027avg_filtered\u0027])\n\n\nax \u003d p.subplot(312)\nax.set_xlabel(\u0027frequency[Hz]\u0027)\nax.set_ylabel(\u0027|Frecuency response|\u0027)\nax.set_title(\u0027Absolute value of the fft ov the original signal after aplying a low pass filter with a hanning window\u0027)\np.plot(freq, abs(df[\u0027avg_filtered_fft\u0027]))\n\nax \u003d p.subplot(313)\nax.set_xlabel(\u0027frequency[Hz]\u0027)\nax.set_ylabel(\u0027Spectral desity\u0027)\nax.set_title(\u0027Spectral density of the original signal after aplying a low pass filter with a hanning window\u0027)\np.psd(df[\u0027avg_filtered\u0027],  Fs \u003d samplerate)\n\nfig.tight_layout()\np.show()\n\n"
    },
    {
      "cell_type": "code",
      "execution_count": 13,
      "metadata": {
        "autoscroll": "auto"
      },
      "outputs": [],
      "source": "%python.ipython\n"
    },
    {
      "cell_type": "code",
      "execution_count": 14,
      "metadata": {
        "autoscroll": "auto"
      },
      "outputs": [],
      "source": "%python.ipython\ncompression_factor \u003d 8\ncompress_sample \u003d lambda sample, compression_factor: map(lambda tup: tup[0], filter(lambda tup: tup[1]%compression_factor \u003d\u003d 0, zip(sample, i.count(0,1))))\ncompress_sample_df \u003d lambda df, compression_factor: df[df.index % compression_factor \u003d\u003d 0]\n"
    },
    {
      "cell_type": "code",
      "execution_count": 15,
      "metadata": {
        "autoscroll": "auto"
      },
      "outputs": [],
      "source": "%python.ipython\nfreq.size"
    },
    {
      "cell_type": "code",
      "execution_count": 16,
      "metadata": {
        "autoscroll": "auto"
      },
      "outputs": [],
      "source": "%python.ipython\n%matplotlib inline\n\ncompressed_df \u003d compress_sample_df(df[[\u0027t\u0027, \u0027avg_filtered\u0027]], compression_factor).reset_index(inplace\u003dFalse)\ncompressed_df[\u0027avg_filtered_fft\u0027]\u003d np.fft.fft(compressed_df[\u0027avg_filtered\u0027])\nfreq \u003d np.fft.fftfreq(compressed_df[\u0027t\u0027].shape[-1], 8/samplerate)\n\nfig \u003d p.figure(figsize\u003d(20,8))\nax \u003d p.subplot(311)\nax.set_xlabel(\u0027time [s]\u0027)\nax.set_ylabel(\u0027Amplitude\u0027)\nax.set_title(\u0027Filtered and decimated signal\u0027)\np.plot(compressed_df[\u0027t\u0027], compressed_df[\u0027avg_filtered\u0027])\n\nax \u003d p.subplot(313)\nax.set_title(\u0027Spectral density of the filtered and decimated signal\u0027)\np.psd(compressed_df[\u0027avg_filtered\u0027],  Fs \u003d samplerate/8)\n\nax \u003d p.subplot(312)\nax.set_xlabel(\u0027frequency[Hz]\u0027)\nax.set_ylabel(\u0027|Frecuency response|\u0027)\nax.set_title(\u0027Absolute value of the fft ov the filtered and decimated signal\u0027)\np.plot(freq, abs(compressed_df[\u0027avg_filtered_fft\u0027]))\n\nfig.tight_layout()\np.show()"
    },
    {
      "cell_type": "code",
      "execution_count": 17,
      "metadata": {
        "autoscroll": "auto"
      },
      "outputs": [],
      "source": "%python.ipython\n%matplotlib inline\n\n# compressed_df[\u0027fft\u0027] \u003d np.fft.fft(compressed_df[\u0027avg\u0027])\n# freq \u003d np.fft.fftfreq(compressed_df[\u0027t\u0027].shape[-1], 1/samplerate)\n# p.figure(figsize\u003d(20,8))\n# p.subplot(211)\n# p.plot(freq, abs(compressed_df[\u0027fft\u0027]))\n\n# total_length \u003d freq.size\n# window_length \u003d int(5512)\n# center \u003d total_length/2\n# window \u003d np.concatenate((np.zeros(int(center - window_length)), signal.windows.boxcar(window_length*2), np.zeros(int(total_length - center - window_length))), axis\u003dNone)\n# p.plot(np.roll(freq[:-1], int(freq[:-1].size/2)), 1000*window, color\u003d\u0027r\u0027)\n# p.show()"
    },
    {
      "cell_type": "code",
      "execution_count": 18,
      "metadata": {
        "autoscroll": "auto"
      },
      "outputs": [],
      "source": "%python.ipython\nw, h \u003d signal.freqz(b)\n\n\nfig, ax1 \u003d p.subplots(figsize\u003d(20,8))\nax1.set_title(\u0027Digital filter frequency response\u0027)\nax1.plot(w, 20 * np.log10(abs(h)), \u0027b\u0027)\nax1.set_ylabel(\u0027Amplitude [dB]\u0027, color\u003d\u0027b\u0027)\nax1.set_xlabel(\u0027Frequency [rad/sample]\u0027)\n\n\nax2 \u003d ax1.twinx()\nangles \u003d np.unwrap(np.angle(h))\nax2.plot(w, angles, \u0027g\u0027)\nax2.set_ylabel(\u0027Angle (radians)\u0027, color\u003d\u0027g\u0027)\nax2.grid()\nax2.axis(\u0027tight\u0027)\n\np.show()"
    },
    {
      "cell_type": "code",
      "execution_count": 19,
      "metadata": {
        "autoscroll": "auto"
      },
      "outputs": [],
      "source": "%python.ipython\nimport numpy as np\nimport matplotlib.pyplot as plt\nfrom  matplotlib import patches\nfrom matplotlib.figure import Figure\nfrom matplotlib import rcParams\n    \ndef zplane(b,a,filename\u003dNone):\n    \"\"\"Plot the complex z-plane given a transfer function.\n    \"\"\"\n\n    # get a figure/plot\n    ax \u003d plt.subplot(111)\n\n    # create the unit circle\n    uc \u003d patches.Circle((0,0), radius\u003d1, fill\u003dFalse,\n                        color\u003d\u0027black\u0027, ls\u003d\u0027dashed\u0027)\n    ax.add_patch(uc)\n\n    # The coefficients are less than 1, normalize the coeficients\n    if np.max(b) \u003e 1:\n        kn \u003d np.max(b)\n        b \u003d b/float(kn)\n    else:\n        kn \u003d 1\n\n    if np.max(a) \u003e 1:\n        kd \u003d np.max(a)\n        a \u003d a/float(kd)\n    else:\n        kd \u003d 1\n        \n    # Get the poles and zeros\n    p \u003d np.roots(a)\n    z \u003d np.roots(b)\n    k \u003d kn/float(kd)\n    \n    # Plot the zeros and set marker properties    \n    t1 \u003d plt.plot(z.real, z.imag, \u0027go\u0027, ms\u003d10)\n    plt.setp( t1, markersize\u003d10.0, markeredgewidth\u003d1.0,\n              markeredgecolor\u003d\u0027k\u0027, markerfacecolor\u003d\u0027g\u0027)\n\n    # Plot the poles and set marker properties\n    t2 \u003d plt.plot(p.real, p.imag, \u0027rx\u0027, ms\u003d10)\n    plt.setp( t2, markersize\u003d12.0, markeredgewidth\u003d3.0,\n              markeredgecolor\u003d\u0027r\u0027, markerfacecolor\u003d\u0027r\u0027)\n\n    ax.spines[\u0027left\u0027].set_position(\u0027center\u0027)\n    ax.spines[\u0027bottom\u0027].set_position(\u0027center\u0027)\n    ax.spines[\u0027right\u0027].set_visible(False)\n    ax.spines[\u0027top\u0027].set_visible(False)\n\n    # set the ticks\n    r \u003d 1.5; plt.axis(\u0027scaled\u0027); plt.axis([-r, r, -r, r])\n    ticks \u003d [-1, -.5, .5, 1]; plt.xticks(ticks); plt.yticks(ticks)\n\n    if filename is None:\n        plt.show()\n    else:\n        plt.savefig(filename)\n    \n\n    return z, p, k"
    },
    {
      "cell_type": "code",
      "execution_count": 20,
      "metadata": {
        "autoscroll": "auto"
      },
      "outputs": [],
      "source": "%python.ipython\np.figure(figsize\u003d(20,8))\nax \u003d p.subplot(111)\n\nax.set_title(\u0027Filter Zeroes and poles diagram\u0027)\nz, poles, k \u003d zplane(b,[1])\n\np.show()"
    },
    {
      "cell_type": "code",
      "execution_count": 21,
      "metadata": {
        "autoscroll": "auto"
      },
      "outputs": [],
      "source": "%python.ipython\n%matplotlib inline\np.figure(figsize\u003d(20,8))\nt,y \u003d signal.impulse(([1],b),)\nax \u003d p.subplot(111)\nax.set_xlabel(\u0027time\u0027)\nax.set_ylabel(\u0027Amplitude\u0027)\nax.set_title(\u0027Filter impulse response\u0027)\np.plot(t,y)\np.show()"
    },
    {
      "cell_type": "code",
      "execution_count": 22,
      "metadata": {
        "autoscroll": "auto"
      },
      "outputs": [],
      "source": "%python.ipython\n\np.figure(figsize\u003d(20,8))\n\nw, gd \u003d signal.group_delay(([1], b),fs \u003d samplerate)\nax \u003d p.subplot(111)\nax.set_xlabel(\u0027frequency [rad]\u0027)\nax.set_ylabel(\u0027Group delay [samples]\u0027)\nax.set_title(\u0027Filter group delay\u0027)\np.plot(w, gd)\np.show()"
    },
    {
      "cell_type": "markdown",
      "metadata": {},
      "source": " \n# Ejercicio 5\nRealice un espectrograma de la señal original y la filtrada y verifique los efectos del filtrado.Indique el tipo y longitud de ventana utilizada.\n\nVentana de hanning de longitud 100ms"
    },
    {
      "cell_type": "code",
      "execution_count": 24,
      "metadata": {
        "autoscroll": "auto"
      },
      "outputs": [],
      "source": "%python.ipython\n%matplotlib inline\n\nwindow \u003d mplt.mlab.window_hanning\nnumber_of_points \u003d lambda time_mils, samplerate: int((time_mils/1000)*samplerate)\nfig \u003d p.figure(figsize\u003d(20,8))\n\nax \u003d p.subplot(311)\nax.set_xlabel(\u0027time [s]\u0027)\nax.set_ylabel(\u0027Frequency Hz\u0027)\nax.set_title(\u0027Original signal spectrogram\u0027)\np.specgram(df[\u0027avg\u0027], Fs\u003dsamplerate, NFFT\u003dnumber_of_points(100, 44100), window\u003dwindow)\n\nax \u003d p.subplot(312)\nax.set_xlabel(\u0027time [s]\u0027)\nax.set_ylabel(\u0027Frequency Hz\u0027)\nax.set_title(\u0027Filtered (Hanning) signal spectrogram\u0027)\np.specgram(df[\u0027avg_filtered\u0027], Fs\u003dsamplerate, NFFT\u003dnumber_of_points(100, 44100), window\u003dwindow)\nfig.tight_layout()\np.show()"
    },
    {
      "cell_type": "markdown",
      "metadata": {},
      "source": "# Ejercicio 6\nRealice un espectrograma de la señal sub-muestreada y muestre una imagen (con zoom) de algunaregión donde se vean las características espectrales de la señal dada la ventana utilizada. Muestre y justifiquecómo cambia la visualización de las características con 3 diferentes longitudes de ventana y comente qué longitudutilizará en el algoritmo. Realice las comparaciones con ventana rectangular y de Hamming."
    },
    {
      "cell_type": "code",
      "execution_count": 26,
      "metadata": {
        "autoscroll": "auto"
      },
      "outputs": [],
      "source": "%python.ipython\nfig \u003d p.figure(figsize\u003d(20,20))\ndecimated_signal \u003d compressed_df[\u0027avg_filtered\u0027]\nsmpl_rate \u003d samplerate/8\n# windows \u003d [(\"Hanning\",mplt.mlab.window_hanning), ]\nax \u003d p.subplot(611)\nax.set_xlabel(\u0027time [s]\u0027)\nax.set_ylabel(\u0027Frequency Hz\u0027)\nax.set_title(\u0027Subsampled signal spectrogram. Hanning window, 50ms of lentgh\u0027)\np.specgram(decimated_signal, Fs\u003dsmpl_rate, NFFT\u003dnumber_of_points(50, smpl_rate), window\u003dmplt.mlab.window_hanning)\n\nax \u003d p.subplot(612)\nax.set_xlabel(\u0027time [s]\u0027)\nax.set_ylabel(\u0027Frequency Hz\u0027)\nax.set_title(\u0027Subsampled signal spectrogram. Rectangular window, 50ms of lentgh\u0027)\np.specgram(decimated_signal, Fs\u003dsmpl_rate, NFFT\u003dnumber_of_points(50, smpl_rate), window\u003dsignal.windows.boxcar(number_of_points(50, smpl_rate)))\n\nax \u003d p.subplot(613)\nax.set_xlabel(\u0027time [s]\u0027)\nax.set_ylabel(\u0027Frequency Hz\u0027)\nax.set_title(\u0027Subsampled signal spectrogram. Hanning window, 100ms of lentgh\u0027)\np.specgram(decimated_signal, Fs\u003dsmpl_rate, NFFT\u003dnumber_of_points(100, smpl_rate), window\u003dmplt.mlab.window_hanning)\n\nax \u003d p.subplot(614)\nax.set_xlabel(\u0027time [s]\u0027)\nax.set_ylabel(\u0027Frequency Hz\u0027)\nax.set_title(\u0027Subsampled signal spectrogram. Rectangular window, 100ms of lentgh\u0027)\np.specgram(decimated_signal, Fs\u003dsmpl_rate, NFFT\u003dnumber_of_points(100, smpl_rate), window\u003dsignal.windows.boxcar(number_of_points(100, smpl_rate)))\n\n\nax \u003d p.subplot(615)\nax.set_xlabel(\u0027time [s]\u0027)\nax.set_ylabel(\u0027Frequency Hz\u0027)\nax.set_title(\u0027Subsampled signal spectrogram. Hanning window, 25ms of lentgh\u0027)\np.specgram(decimated_signal, Fs\u003dsmpl_rate, NFFT\u003dnumber_of_points(25, smpl_rate), window\u003dmplt.mlab.window_hanning)\n\nax \u003d p.subplot(616)\nax.set_xlabel(\u0027time [s]\u0027)\nax.set_ylabel(\u0027Frequency Hz\u0027)\nax.set_title(\u0027Subsampled signal spectrogram. Rectangular window, 25ms of lentgh\u0027)\np.specgram(decimated_signal, Fs\u003dsmpl_rate, NFFT\u003dnumber_of_points(25, smpl_rate), window\u003dsignal.windows.boxcar(number_of_points(25, smpl_rate)))\n\n\nfig.tight_layout()\np.show()"
    },
    {
      "cell_type": "code",
      "execution_count": 27,
      "metadata": {
        "autoscroll": "auto"
      },
      "outputs": [],
      "source": "%python.ipython\n%matplotlib inline\nfig \u003d p.figure(figsize\u003d(10,18))\ndecimated_signal \u003d compressed_df[compressed_df.t \u003c 3.0][compressed_df.t \u003e 2.0][\u0027avg_filtered\u0027]\nsmpl_rate \u003d samplerate/8\n# windows \u003d [(\"Hanning\",mplt.mlab.window_hanning), ]\nax \u003d p.subplot(611)\nax.set_xlabel(\u0027time [s]\u0027)\nax.set_ylabel(\u0027Frequency Hz\u0027)\nax.set_title(\u0027Subsampled signal spectrogram. Hanning window, 50ms of lentgh\u0027)\np.specgram(decimated_signal, Fs\u003dsmpl_rate, NFFT\u003dnumber_of_points(50, smpl_rate), window\u003dmplt.mlab.window_hanning)\n\nax \u003d p.subplot(612)\nax.set_xlabel(\u0027time [s]\u0027)\nax.set_ylabel(\u0027Frequency Hz\u0027)\nax.set_title(\u0027Subsampled signal spectrogram. Rectangular window, 50ms of lentgh\u0027)\np.specgram(decimated_signal, Fs\u003dsmpl_rate, NFFT\u003dnumber_of_points(50, smpl_rate), window\u003dsignal.windows.boxcar(number_of_points(50, smpl_rate)))\n\nax \u003d p.subplot(613)\nax.set_xlabel(\u0027time [s]\u0027)\nax.set_ylabel(\u0027Frequency Hz\u0027)\nax.set_title(\u0027Subsampled signal spectrogram. Hanning window, 100ms of lentgh\u0027)\np.specgram(decimated_signal, Fs\u003dsmpl_rate, NFFT\u003dnumber_of_points(100, smpl_rate), window\u003dmplt.mlab.window_hanning)\n\nax \u003d p.subplot(614)\nax.set_xlabel(\u0027time [s]\u0027)\nax.set_ylabel(\u0027Frequency Hz\u0027)\nax.set_title(\u0027Subsampled signal spectrogram. Rectangular window, 100ms of lentgh\u0027)\np.specgram(decimated_signal, Fs\u003dsmpl_rate, NFFT\u003dnumber_of_points(100, smpl_rate), window\u003dsignal.windows.boxcar(number_of_points(100, smpl_rate)))\n\n\nax \u003d p.subplot(615)\nax.set_xlabel(\u0027time [s]\u0027)\nax.set_ylabel(\u0027Frequency Hz\u0027)\nax.set_title(\u0027Subsampled signal spectrogram. Hanning window, 25ms of lentgh\u0027)\np.specgram(decimated_signal, Fs\u003dsmpl_rate, NFFT\u003dnumber_of_points(25, smpl_rate), window\u003dmplt.mlab.window_hanning)\n\nax \u003d p.subplot(616)\nax.set_xlabel(\u0027time [s]\u0027)\nax.set_ylabel(\u0027Frequency Hz\u0027)\nax.set_title(\u0027Subsampled signal spectrogram. Rectangular window, 25ms of lentgh\u0027)\np.specgram(decimated_signal, Fs\u003dsmpl_rate, NFFT\u003dnumber_of_points(25, smpl_rate), window\u003dsignal.windows.boxcar(number_of_points(25, smpl_rate)))\n\n\nfig.tight_layout()\np.show()"
    },
    {
      "cell_type": "code",
      "execution_count": 28,
      "metadata": {
        "autoscroll": "auto"
      },
      "outputs": [],
      "source": "%python.ipython\nplt.figure(figsize\u003d(20,8))\nspec, freq, t, img \u003d p.specgram(decimated_signal,noverlap\u003d128 ,Fs\u003dsmpl_rate,NFFT\u003dnumber_of_points(100, smpl_rate), window\u003dmplt.mlab.window_hanning)\n\n"
    },
    {
      "cell_type": "code",
      "execution_count": 29,
      "metadata": {
        "autoscroll": "auto"
      },
      "outputs": [],
      "source": "%python.ipython\nlen([x for x in t if x \u003c 2.0])\nnumber_of_points(25, smpl_rate)"
    },
    {
      "cell_type": "code",
      "execution_count": 30,
      "metadata": {
        "autoscroll": "auto"
      },
      "outputs": [],
      "source": "%python.ipython\nprint(\"spectra length:%i\"%(spec.size))\nprint(\"number of spectra / windows :%i\"%(spec[0].size))\nprint(\"number of frequencies %i\"%(freq.size))\nprint(\"number of t %i\"%(t.size))"
    },
    {
      "cell_type": "code",
      "execution_count": 31,
      "metadata": {
        "autoscroll": "auto"
      },
      "outputs": [],
      "source": "%python.ipython\nbands \u003d np.concatenate((np.array([0]), np.geomspace(300, 2000, num\u003d21)[1:], np.array([np.inf])), axis\u003dNone)\nbuckets \u003d list(mi.pairwise(bands))\n\n"
    },
    {
      "cell_type": "code",
      "execution_count": 32,
      "metadata": {
        "autoscroll": "auto"
      },
      "outputs": [],
      "source": "%python.ipython\ndef find_new_freq_band(f, bands):\n    return list(filter(lambda band: band[0] \u003c\u003d f and f \u003c\u003d band[1], bands))[0][0]\n    \n"
    },
    {
      "cell_type": "code",
      "execution_count": 33,
      "metadata": {
        "autoscroll": "auto"
      },
      "outputs": [],
      "source": "%python.ipython\nspectrum_lists \u003d spec[0]\ndef remap_frequencies(spectrum):\n    freq_to_energy_list \u003d zip(spectrum, freq)\n    energy_band_new_relation \u003d map(lambda energy_freq: (energy_freq[0], find_new_freq_band(energy_freq[1], buckets)) , freq_to_energy_list)\n    grouped_by_frequencies \u003d mi.groupby_transform(energy_band_new_relation, lambda e_f: e_f[1], lambda e_f: e_f[0])\n    frequency_energy_sum \u003d map(lambda kv: (kv[0], sum(kv[1])), grouped_by_frequencies) \n    return list(mi.unzip(frequency_energy_sum)[1])\n\nnew_spec \u003d np.array(list(map(lambda s: np.array(remap_frequencies(s)), spec.T))).T"
    },
    {
      "cell_type": "code",
      "execution_count": 34,
      "metadata": {
        "autoscroll": "auto"
      },
      "outputs": [],
      "source": "%python.ipython\nbands"
    },
    {
      "cell_type": "code",
      "execution_count": 35,
      "metadata": {
        "autoscroll": "auto"
      },
      "outputs": [],
      "source": "%python.ipython\nfig \u003d plt.figure(figsize\u003d(20,8))\nax \u003d plt.subplot(111)\n# ax.set_xticks(np.arange(freq.size), freq)\nplt.yticks(np.arange(freq.size,0, -3), freq[::3])\n# ax.set_yticks(t)\nax.imshow(10*np.log10(np.flipud(spec)))\nfig.tight_layout()\nplt.show()"
    },
    {
      "cell_type": "code",
      "execution_count": 36,
      "metadata": {
        "autoscroll": "auto"
      },
      "outputs": [],
      "source": "%python.ipython\n\nfig \u003d plt.figure(figsize\u003d(20,20), dpi\u003d160)\n\nplt.xticks(np.arange(0, t.size, 50), t[::50])\nplt.yticks(np.arange(bands.size,0, -2), bands[::2])\n# ax.set_yticks(t)\nplt.imshow(10*np.log10(np.flipud(new_spec)))\nfig.tight_layout()\nplt.show()"
    },
    {
      "cell_type": "code",
      "execution_count": 37,
      "metadata": {
        "autoscroll": "auto"
      },
      "outputs": [],
      "source": "%python.ipython\n\ndef generate_h(e):\n    h \u003d np.zeros((len(e)-1, len(e[0])))\n    for row_idx in range(1,len(e)-1):\n        for col_idx in range(1,len(e[row_idx])-1):\n            h[row_idx][col_idx] \u003d  int(e[row_idx+1][col_idx] - e[row_idx][col_idx] \u003e e[row_idx+1][col_idx-1] - e[row_idx][col_idx-1])\n    return h\n\n    "
    },
    {
      "cell_type": "code",
      "execution_count": 38,
      "metadata": {
        "autoscroll": "auto"
      },
      "outputs": [],
      "source": "%python.ipython\nh \u003d generate_h(new_spec)\nfig \u003d plt.figure(figsize\u003d(20,8))\nax \u003d plt.subplot(111)\nax.imshow(h)\nfig.tight_layout()\nplt.show()"
    },
    {
      "cell_type": "code",
      "execution_count": 39,
      "metadata": {
        "autoscroll": "auto"
      },
      "outputs": [],
      "source": "%python.ipython\ndef generate_footprint(song_array, samplerate):\n    df \u003d pd.DataFrame(song_array)\n    df[\u0027t\u0027] \u003d df.index / samplerate\n    df[\u0027avg\u0027] \u003d df[[0, 1]].apply(np.average, axis\u003d1)\n    df[\u0027fft\u0027] \u003d np.fft.fft(df[\u0027avg\u0027])\n\n    fs \u003d samplerate\n    nyq \u003d fs / 2\n    length \u003d 80\n    f_high \u003d 5512\n    b \u003d signal.firwin(length, cutoff\u003df_high / nyq, window\u003d\"hann\")\n    op_1 \u003d signal.lfilter(b, 1, df[\u0027avg\u0027])\n    fft \u003d np.fft.fft(op_1)\n    freq \u003d np.fft.fftfreq(df[\u0027t\u0027].shape[-1], 1 / samplerate)\n    df[\u0027avg_filtered\u0027] \u003d op_1\n    df[\u0027avg_filtered_fft\u0027] \u003d fft\n    compression_factor \u003d 8\n    compress_sample_df \u003d lambda df, compression_factor: df[df.index % compression_factor \u003d\u003d 0]\n\n    compressed_df \u003d compress_sample_df(df[[\u0027t\u0027, \u0027avg_filtered\u0027]], compression_factor).reset_index(inplace\u003dFalse)\n    compressed_df[\u0027avg_filtered_fft\u0027] \u003d np.fft.fft(compressed_df[\u0027avg_filtered\u0027])\n\n    number_of_points \u003d lambda time_mils, samplerate: int((time_mils / 1000) * samplerate)\n    decimated_signal \u003d compressed_df[\u0027avg_filtered\u0027]\n    smpl_rate \u003d samplerate / 8\n    spec, freq, t \u003d mlab.specgram(decimated_signal, Fs\u003dsmpl_rate, NFFT\u003dnumber_of_points(50, smpl_rate),\n                                  window\u003dmplt.mlab.window_hanning)\n    # spec, freq, t, img \u003d p.specgram(decimated_signal, Fs\u003dsmpl_rate, NFFT\u003dnumber_of_points(50, smpl_rate),\n    #                                 window\u003dmplt.mlab.window_hanning)\n    bands \u003d np.concatenate((np.array([0]), np.geomspace(300, 2000, num\u003d21)[1:], np.array([np.inf])), axis\u003dNone)\n    buckets \u003d list(mi.pairwise(bands))\n\n    def find_new_freq_band(f, bands):\n        return list(filter(lambda band: band[0] \u003c\u003d f \u003c\u003d band[1], bands))[0][0]\n\n    def remap_frequencies(spectrum):\n        freq_to_energy_list \u003d zip(spectrum, freq)\n        energy_band_new_relation \u003d map(\n            lambda energy_freq: (energy_freq[0], find_new_freq_band(energy_freq[1], buckets)), freq_to_energy_list)\n        grouped_by_frequencies \u003d mi.groupby_transform(energy_band_new_relation, lambda e_f: e_f[1], lambda e_f: e_f[0])\n        frequency_energy_sum \u003d map(lambda kv: (kv[0], sum(kv[1])), grouped_by_frequencies)\n        return list(mi.unzip(frequency_energy_sum)[1])\n\n    new_spec \u003d np.array(list(map(lambda s: np.array(remap_frequencies(s)), spec.T))).T\n\n    def generate_h(e):\n        h \u003d np.zeros((len(e) - 1, len(e[0])))\n        for row_idx in range(1, len(e) - 1):\n            for col_idx in range(1, len(e[row_idx]) - 1):\n                h[row_idx][col_idx] \u003d int(\n                    e[row_idx + 1][col_idx] - e[row_idx][col_idx] \u003e e[row_idx + 1][col_idx - 1] - e[row_idx][\n                        col_idx - 1])\n        return h\n\n    return generate_h(new_spec)\nh\u003d generate_footprint(data, samplerate)"
    },
    {
      "cell_type": "code",
      "execution_count": 40,
      "metadata": {
        "autoscroll": "auto"
      },
      "outputs": [],
      "source": "%python.ipython\n%matplotlib inline\nfig \u003d plt.figure(figsize\u003d(20,8))\nax \u003d plt.subplot(111)\nax.imshow(h)\nfig.tight_layout()\nplt.show()"
    },
    {
      "cell_type": "code",
      "execution_count": 41,
      "metadata": {
        "autoscroll": "auto"
      },
      "outputs": [],
      "source": "%python.ipython\nimport csv \nfrom collections import Counter\n\nclass Database:\n    def __init__(self,connection):\n        self.connection \u003d connection\n        self.hash_nbits \u003d 20\n        self.n_entries \u003d 20\n        self.id_nbits \u003d 12\n        self.tabla \u003d np.zeros((2**self.hash_nbits,self.n_entries), dtype\u003dint)\n    \n    def save_footprint(self, id ,footprint):\n        for frame_idx in range(len(footprint)):\n            self.connection.save(id, footprint[frame_idx] ,frame_idx)\n    \n    def query(self, footprint):\n        frame_count  \u003d len(footprint)\n        matches \u003d filter(lambda id_frame: id_frame[1] \u003c\u003d frame_count , \n                    mi.flatten(map(lambda frame: self.connection.query_by_footprint(list(frame)), footprint)))\n        apparences_count \u003d map(lambda id_list: (id_list[0], mi.ilen(id_list[1])), i.groupby(matches,key \u003d lambda kv: kv[0]))\n        return mi.take(5, (sorted(apparences_count, key\u003dlambda key_count: key_count[1], reverse\u003dTrue)))\n\nclass Connection:\n    def __init__(self):\n        self.data \u003d []\n    \n    def save(self, row):\n        self.data +\u003d row\n    \n    def flush(self):\n        file \u003d open(\u0027odd.csv\u0027, \u0027w+\u0027, newline \u003d\u0027\\n\u0027) \n        with file:     \n            write \u003d csv.writer(file) \n            write.writerows(self.data)     "
    },
    {
      "cell_type": "code",
      "execution_count": 42,
      "metadata": {
        "autoscroll": "auto"
      },
      "outputs": [],
      "source": "%python.ipython\nimport unittest\n\nclass MockConnection:\n    def __init__(self):\n        self.inverted_index \u003d {}\n        self.data \u003d {}\n        \n    def save(self, id, footprint, frame_index):\n        hash \u003d self.hash_footprint(footprint)\n        if hash in self.inverted_index:\n            self.inverted_index[hash] +\u003d [(id, frame_index)]\n            self.data[id] +\u003d [footprint]\n        else:\n            self.inverted_index[hash] \u003d [(id, frame_index)]\n            self.data[id] \u003d [footprint]\n\n        \n    def hash_footprint(self,footprint):\n        return sum(footprint)\n        \n    def query_by_id(self, id):\n        return self.data.get(id)\n    \n    def query_by_footprint(self, fp):\n        return self.inverted_index.get(self.hash_footprint(fp), [])\n        \nclass TestDatabase(unittest.TestCase):\n    def test_create_database(self):\n        connection \u003d MockConnection()\n        db \u003d Database(connection)\n        self.assertEqual(db.hash_nbits, 20)\n        self.assertEqual(db.n_entries, 20)\n        self.assertEqual(db.id_nbits, 12)\n        self.assertEqual(db.tabla.size, 20 * (2**20))\n    \n    def test_save_song_footprint_then_song_was_written(self):\n        connection \u003d MockConnection()\n        db \u003d Database(connection)\n        id \u003d \"song\"\n        h \u003d np.zeros((21,300))\n\n        db.save_footprint(id, h)\n        \n        self.assertEqual(len(connection.data), 1)\n        \n        id2 \u003d \"song2\"\n        h \u003d np.ones((21,300))\n        db.save_footprint(id2, h)\n        \n        self.assertEqual(len(connection.data), 2)\n        \n    def test_save_song_then_can_query_song(self):\n        connection \u003d MockConnection()\n        db \u003d Database(connection)\n        id \u003d \"song\"\n        h \u003d np.zeros((21,300))\n        h[0] \u003d [i for i in range(len(h[0]))] # enssure no colissions\n        \n        db.save_footprint(id, h)\n        \n        self.assertEqual(db.query(h), [(\u0027song\u0027, 401)]) #matches all\n        \n        reduced_footprint \u003d h[50:100]\n        self.assertEqual(db.query(reduced_footprint), [(\u0027song\u0027, 401)]) \n\n        \n        \n        \n        \n\nunittest.main(argv\u003d[\u0027\u0027], verbosity\u003d2, exit\u003dFalse)"
    },
    {
      "cell_type": "code",
      "execution_count": 43,
      "metadata": {
        "autoscroll": "auto"
      },
      "outputs": [],
      "source": "%python.ipython\n\nmatches \u003d [(\u0027song\u0027, 0), (\u0027song\u0027, 1), (\u0027song\u0027, 2), (\u0027song\u0027, 3), (\u0027song\u0027, 4), (\u0027song\u0027, 5), (\u0027song\u0027, 6), (\u0027song\u0027, 7), (\u0027song\u0027, 8), (\u0027song\u0027, 9), (\u0027song\u0027, 10), (\u0027song\u0027, 11), (\u0027song\u0027, 12), (\u0027song\u0027, 13), (\u0027song\u0027, 14), (\u0027song\u0027, 15), (\u0027song\u0027, 16), (\u0027song\u0027, 17), (\u0027song\u0027, 18), (\u0027song\u0027, 19), (\u0027song\u0027, 20), (\u0027song\u0027, 0), (\u0027song\u0027, 1), (\u0027song\u0027, 2), (\u0027song\u0027, 3), (\u0027song\u0027, 4), (\u0027song\u0027, 5), (\u0027song\u0027, 6), (\u0027song\u0027, 7), (\u0027song\u0027, 8), (\u0027song\u0027, 9), (\u0027song\u0027, 10), (\u0027song\u0027, 11), (\u0027song\u0027, 12), (\u0027song\u0027, 13), (\u0027song\u0027, 14), (\u0027song\u0027, 15), (\u0027song\u0027, 16), (\u0027song\u0027, 17), (\u0027song\u0027, 18), (\u0027song\u0027, 19), (\u0027song\u0027, 20), (\u0027song\u0027, 0), (\u0027song\u0027, 1), (\u0027song\u0027, 2), (\u0027song\u0027, 3), (\u0027song\u0027, 4), (\u0027song\u0027, 5), (\u0027song\u0027, 6), (\u0027song\u0027, 7), (\u0027song\u0027, 8), (\u0027song\u0027, 9), (\u0027song\u0027, 10), (\u0027song\u0027, 11), (\u0027song\u0027, 12), (\u0027song\u0027, 13), (\u0027song\u0027, 14), (\u0027song\u0027, 15), (\u0027song\u0027, 16), (\u0027song\u0027, 17), (\u0027song\u0027, 18), (\u0027song\u0027, 19), (\u0027song\u0027, 20), (\u0027song\u0027, 0), (\u0027song\u0027, 1), (\u0027song\u0027, 2), (\u0027song\u0027, 3), (\u0027song\u0027, 4), (\u0027song\u0027, 5), (\u0027song\u0027, 6), (\u0027song\u0027, 7), (\u0027song\u0027, 8), (\u0027song\u0027, 9), (\u0027song\u0027, 10), (\u0027song\u0027, 11), (\u0027song\u0027, 12), (\u0027song\u0027, 13), (\u0027song\u0027, 14), (\u0027song\u0027, 15), (\u0027song\u0027, 16), (\u0027song\u0027, 17), (\u0027song\u0027, 18), (\u0027song\u0027, 19), (\u0027song\u0027, 20), (\u0027song\u0027, 0), (\u0027song\u0027, 1), (\u0027song\u0027, 2), (\u0027song\u0027, 3), (\u0027song\u0027, 4), (\u0027song\u0027, 5), (\u0027song\u0027, 6), (\u0027song\u0027, 7), (\u0027song\u0027, 8), (\u0027song\u0027, 9), (\u0027song\u0027, 10), (\u0027song\u0027, 11), (\u0027song\u0027, 12), (\u0027song\u0027, 13), (\u0027song\u0027, 14), (\u0027song\u0027, 15), (\u0027song\u0027, 16), (\u0027song\u0027, 17), (\u0027song\u0027, 18), (\u0027song\u0027, 19), (\u0027song\u0027, 20), (\u0027song\u0027, 0), (\u0027song\u0027, 1), (\u0027song\u0027, 2), (\u0027song\u0027, 3), (\u0027song\u0027, 4), (\u0027song\u0027, 5), (\u0027song\u0027, 6), (\u0027song\u0027, 7), (\u0027song\u0027, 8), (\u0027song\u0027, 9), (\u0027song\u0027, 10), (\u0027song\u0027, 11), (\u0027song\u0027, 12), (\u0027song\u0027, 13), (\u0027song\u0027, 14), (\u0027song\u0027, 15), (\u0027song\u0027, 16), (\u0027song\u0027, 17), (\u0027song\u0027, 18), (\u0027song\u0027, 19), (\u0027song\u0027, 20), (\u0027song\u0027, 0), (\u0027song\u0027, 1), (\u0027song\u0027, 2), (\u0027song\u0027, 3), (\u0027song\u0027, 4), (\u0027song\u0027, 5), (\u0027song\u0027, 6), (\u0027song\u0027, 7), (\u0027song\u0027, 8), (\u0027song\u0027, 9), (\u0027song\u0027, 10), (\u0027song\u0027, 11), (\u0027song\u0027, 12), (\u0027song\u0027, 13), (\u0027song\u0027, 14), (\u0027song\u0027, 15), (\u0027song\u0027, 16), (\u0027song\u0027, 17), (\u0027song\u0027, 18), (\u0027song\u0027, 19), (\u0027song\u0027, 20), (\u0027song\u0027, 0), (\u0027song\u0027, 1), (\u0027song\u0027, 2), (\u0027song\u0027, 3), (\u0027song\u0027, 4), (\u0027song\u0027, 5), (\u0027song\u0027, 6), (\u0027song\u0027, 7), (\u0027song\u0027, 8), (\u0027song\u0027, 9), (\u0027song\u0027, 10), (\u0027song\u0027, 11), (\u0027song\u0027, 12), (\u0027song\u0027, 13), (\u0027song\u0027, 14), (\u0027song\u0027, 15), (\u0027song\u0027, 16), (\u0027song\u0027, 17), (\u0027song\u0027, 18), (\u0027song\u0027, 19), (\u0027song\u0027, 20), (\u0027song\u0027, 0), (\u0027song\u0027, 1), (\u0027song\u0027, 2), (\u0027song\u0027, 3), (\u0027song\u0027, 4), (\u0027song\u0027, 5), (\u0027song\u0027, 6), (\u0027song\u0027, 7), (\u0027song\u0027, 8), (\u0027song\u0027, 9), (\u0027song\u0027, 10), (\u0027song\u0027, 11), (\u0027song\u0027, 12), (\u0027song\u0027, 13), (\u0027song\u0027, 14), (\u0027song\u0027, 15), (\u0027song\u0027, 16), (\u0027song\u0027, 17), (\u0027song\u0027, 18), (\u0027song\u0027, 19), (\u0027song\u0027, 20), (\u0027song\u0027, 0), (\u0027song\u0027, 1), (\u0027song\u0027, 2), (\u0027song\u0027, 3), (\u0027song\u0027, 4), (\u0027song\u0027, 5), (\u0027song\u0027, 6), (\u0027song\u0027, 7), (\u0027song\u0027, 8), (\u0027song\u0027, 9), (\u0027song\u0027, 10), (\u0027song\u0027, 11), (\u0027song\u0027, 12), (\u0027song\u0027, 13), (\u0027song\u0027, 14), (\u0027song\u0027, 15), (\u0027song\u0027, 16), (\u0027song\u0027, 17), (\u0027song\u0027, 18), (\u0027song\u0027, 19), (\u0027song\u0027, 20), (\u0027song\u0027, 0), (\u0027song\u0027, 1), (\u0027song\u0027, 2), (\u0027song\u0027, 3), (\u0027song\u0027, 4), (\u0027song\u0027, 5), (\u0027song\u0027, 6), (\u0027song\u0027, 7), (\u0027song\u0027, 8), (\u0027song\u0027, 9), (\u0027song\u0027, 10), (\u0027song\u0027, 11), (\u0027song\u0027, 12), (\u0027song\u0027, 13), (\u0027song\u0027, 14), (\u0027song\u0027, 15), (\u0027song\u0027, 16), (\u0027song\u0027, 17), (\u0027song\u0027, 18), (\u0027song\u0027, 19), (\u0027song\u0027, 20), (\u0027song\u0027, 0), (\u0027song\u0027, 1), (\u0027song\u0027, 2), (\u0027song\u0027, 3), (\u0027song\u0027, 4), (\u0027song\u0027, 5), (\u0027song\u0027, 6), (\u0027song\u0027, 7), (\u0027song\u0027, 8), (\u0027song\u0027, 9), (\u0027song\u0027, 10), (\u0027song\u0027, 11), (\u0027song\u0027, 12), (\u0027song\u0027, 13), (\u0027song\u0027, 14), (\u0027song\u0027, 15), (\u0027song\u0027, 16), (\u0027song\u0027, 17), (\u0027song\u0027, 18), (\u0027song\u0027, 19), (\u0027song\u0027, 20), (\u0027song\u0027, 0), (\u0027song\u0027, 1), (\u0027song\u0027, 2), (\u0027song\u0027, 3), (\u0027song\u0027, 4), (\u0027song\u0027, 5), (\u0027song\u0027, 6), (\u0027song\u0027, 7), (\u0027song\u0027, 8), (\u0027song\u0027, 9), (\u0027song\u0027, 10), (\u0027song\u0027, 11), (\u0027song\u0027, 12), (\u0027song\u0027, 13), (\u0027song\u0027, 14), (\u0027song\u0027, 15), (\u0027song\u0027, 16), (\u0027song\u0027, 17), (\u0027song\u0027, 18), (\u0027song\u0027, 19), (\u0027song\u0027, 20), (\u0027song\u0027, 0), (\u0027song\u0027, 1), (\u0027song\u0027, 2), (\u0027song\u0027, 3), (\u0027song\u0027, 4), (\u0027song\u0027, 5), (\u0027song\u0027, 6), (\u0027song\u0027, 7), (\u0027song\u0027, 8), (\u0027song\u0027, 9), (\u0027song\u0027, 10), (\u0027song\u0027, 11), (\u0027song\u0027, 12), (\u0027song\u0027, 13), (\u0027song\u0027, 14), (\u0027song\u0027, 15), (\u0027song\u0027, 16), (\u0027song\u0027, 17), (\u0027song\u0027, 18), (\u0027song\u0027, 19), (\u0027song\u0027, 20), (\u0027song\u0027, 0), (\u0027song\u0027, 1), (\u0027song\u0027, 2), (\u0027song\u0027, 3), (\u0027song\u0027, 4), (\u0027song\u0027, 5), (\u0027song\u0027, 6), (\u0027song\u0027, 7), (\u0027song\u0027, 8), (\u0027song\u0027, 9), (\u0027song\u0027, 10), (\u0027song\u0027, 11), (\u0027song\u0027, 12), (\u0027song\u0027, 13), (\u0027song\u0027, 14), (\u0027song\u0027, 15), (\u0027song\u0027, 16), (\u0027song\u0027, 17), (\u0027song\u0027, 18), (\u0027song\u0027, 19), (\u0027song\u0027, 20), (\u0027song\u0027, 0), (\u0027song\u0027, 1), (\u0027song\u0027, 2), (\u0027song\u0027, 3), (\u0027song\u0027, 4), (\u0027song\u0027, 5), (\u0027song\u0027, 6), (\u0027song\u0027, 7), (\u0027song\u0027, 8), (\u0027song\u0027, 9), (\u0027song\u0027, 10), (\u0027song\u0027, 11), (\u0027song\u0027, 12), (\u0027song\u0027, 13), (\u0027song\u0027, 14), (\u0027song\u0027, 15), (\u0027song\u0027, 16), (\u0027song\u0027, 17), (\u0027song\u0027, 18), (\u0027song\u0027, 19), (\u0027song\u0027, 20), (\u0027song\u0027, 0), (\u0027song\u0027, 1), (\u0027song\u0027, 2), (\u0027song\u0027, 3), (\u0027song\u0027, 4), (\u0027song\u0027, 5), (\u0027song\u0027, 6), (\u0027song\u0027, 7), (\u0027song\u0027, 8), (\u0027song\u0027, 9), (\u0027song\u0027, 10), (\u0027song\u0027, 11), (\u0027song\u0027, 12), (\u0027song\u0027, 13), (\u0027song\u0027, 14), (\u0027song\u0027, 15), (\u0027song\u0027, 16), (\u0027song\u0027, 17), (\u0027song\u0027, 18), (\u0027song\u0027, 19), (\u0027song\u0027, 20), (\u0027song\u0027, 0), (\u0027song\u0027, 1), (\u0027song\u0027, 2), (\u0027song\u0027, 3), (\u0027song\u0027, 4), (\u0027song\u0027, 5), (\u0027song\u0027, 6), (\u0027song\u0027, 7), (\u0027song\u0027, 8), (\u0027song\u0027, 9), (\u0027song\u0027, 10), (\u0027song\u0027, 11), (\u0027song\u0027, 12), (\u0027song\u0027, 13), (\u0027song\u0027, 14), (\u0027song\u0027, 15), (\u0027song\u0027, 16), (\u0027song\u0027, 17), (\u0027song\u0027, 18), (\u0027song\u0027, 19), (\u0027song\u0027, 20), (\u0027song\u0027, 0), (\u0027song\u0027, 1), (\u0027song\u0027, 2), (\u0027song\u0027, 3), (\u0027song\u0027, 4), (\u0027song\u0027, 5), (\u0027song\u0027, 6), (\u0027song\u0027, 7), (\u0027song\u0027, 8), (\u0027song\u0027, 9), (\u0027song\u0027, 10), (\u0027song\u0027, 11), (\u0027song\u0027, 12), (\u0027song\u0027, 13), (\u0027song\u0027, 14), (\u0027song\u0027, 15), (\u0027song\u0027, 16), (\u0027song\u0027, 17), (\u0027song\u0027, 18), (\u0027song\u0027, 19), (\u0027song\u0027, 20), (\u0027song\u0027, 0), (\u0027song\u0027, 1), (\u0027song\u0027, 2), (\u0027song\u0027, 3), (\u0027song\u0027, 4), (\u0027song\u0027, 5), (\u0027song\u0027, 6), (\u0027song\u0027, 7), (\u0027song\u0027, 8), (\u0027song\u0027, 9), (\u0027song\u0027, 10), (\u0027song\u0027, 11), (\u0027song\u0027, 12), (\u0027song\u0027, 13), (\u0027song\u0027, 14), (\u0027song\u0027, 15), (\u0027song\u0027, 16), (\u0027song\u0027, 17), (\u0027song\u0027, 18), (\u0027song\u0027, 19), (\u0027song\u0027, 20), (\u0027song\u0027, 0), (\u0027song\u0027, 1), (\u0027song\u0027, 2), (\u0027song\u0027, 3), (\u0027song\u0027, 4), (\u0027song\u0027, 5), (\u0027song\u0027, 6), (\u0027song\u0027, 7), (\u0027song\u0027, 8), (\u0027song\u0027, 9), (\u0027song\u0027, 10), (\u0027song\u0027, 11), (\u0027song\u0027, 12), (\u0027song\u0027, 13), (\u0027song\u0027, 14), (\u0027song\u0027, 15), (\u0027song\u0027, 16), (\u0027song\u0027, 17), (\u0027song\u0027, 18), (\u0027song\u0027, 19), (\u0027song\u0027, 20)]\napparences_count \u003d map(lambda id_list: (id_list[0], mi.ilen(id_list[1])), i.groupby(matches,key \u003d lambda kv: kv[0]))\nmi.take(5, (sorted(apparences_count, key\u003dlambda key_count: key_count[1])))\n"
    },
    {
      "cell_type": "code",
      "execution_count": 44,
      "metadata": {
        "autoscroll": "auto"
      },
      "outputs": [],
      "source": "%python.ipython\nx \u003d"
    },
    {
      "cell_type": "code",
      "execution_count": 45,
      "metadata": {
        "autoscroll": "auto"
      },
      "outputs": [],
      "source": "%python.ipython\n"
    }
  ]
}