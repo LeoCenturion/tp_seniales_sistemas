﻿{
 "metadata": {
  "name": "Untitled Note 1",
  "kernelspec": {
   "language": "scala",
   "name": "spark2-scala"
  },
  "language_info": {
   "codemirror_mode": "text/x-scala",
   "file_extension": ".scala",
   "mimetype": "text/x-scala",
   "name": "scala",
   "pygments_lexer": "scala"
  }
 },
 "nbformat": 4,
 "nbformat_minor": 2,
 "cells": [
  {
   "cell_type": "code",
   "execution_count": null,
   "outputs": [],
   "source": [
    "%python.ipython\n",
    "import pandas as pd\n",
    "import matplotlib.pyplot as plt\n",
    "import matplotlib as mplt\n",
    "import numpy as np\n",
    "from scipy import signal\n",
    "import soundfile as sf\n",
    "import itertools as i\n",
    "import more_itertools as mi\n",
    "import functools\n"
   ],
   "metadata": {
    "collapsed": false,
    "pycharm": {
     "name": "#%%\n"
    }
   }
  },
  {
   "cell_type": "code",
   "execution_count": null,
   "outputs": [],
   "source": [
    "%python.ipython\n"
   ],
   "metadata": {
    "collapsed": false,
    "pycharm": {
     "name": "#%%\n"
    }
   }
  },
  {
   "cell_type": "code",
   "execution_count": null,
   "outputs": [],
   "source": [
    "%python.ipython\n",
    "\n",
    "data, samplerate = sf.read('/home/leonardo/Documents/seniales/tp/extras/Pink.ogg')"
   ],
   "metadata": {
    "collapsed": false,
    "pycharm": {
     "name": "#%%\n"
    }
   }
  },
  {
   "cell_type": "code",
   "execution_count": null,
   "outputs": [],
   "source": [
    "\n",
    "df = pd.DataFrame(data)\n",
    "df['t'] = df.index /samplerate\n",
    "df['avg'] = df[[0,1]].apply( np.average, axis=1)\n",
    "\n"
   ],
   "metadata": {
    "collapsed": false,
    "pycharm": {
     "name": "#%%\n"
    }
   }
  },
  {
   "cell_type": "code",
   "execution_count": null,
   "outputs": [],
   "source": [
    "df['fft'] = np.fft.fft(df['avg'])"
   ],
   "metadata": {
    "collapsed": false,
    "pycharm": {
     "name": "#%%\n"
    }
   }
  },
  {
   "cell_type": "code",
   "execution_count": null,
   "outputs": [],
   "source": [
    "%python.ipython\n",
    "%matplotlib inline\n",
    "\n",
    "fig = p.figure(figsize=(20,8))\n",
    "\n",
    "ax = p.subplot(311)\n",
    "ax.set_xlabel('time [s]')\n",
    "ax.set_ylabel('Amplitude')\n",
    "ax.set_title('Original signal over time')\n",
    "p.plot(df['t'], df['avg'])\n",
    "\n",
    "\n",
    "ax = p.subplot(312)\n",
    "ax.set_title('Spectral density of the original signal')\n",
    "p.psd(df['avg'],  Fs = samplerate);\n",
    "\n",
    "fft = np.fft.fft(df['avg'])\n",
    "freq = np.fft.fftfreq(df['t'].shape[-1], 1/samplerate)\n",
    "\n",
    "ax = p.subplot(313)\n",
    "ax.set_xlabel('time [s]')\n",
    "ax.set_ylabel('Amplitude')\n",
    "ax.set_title('Absolute value of the fft of the original signal')\n",
    "p.plot(freq, abs(fft))\n",
    "\n",
    "fig.tight_layout()\n",
    "p.show()"
   ],
   "metadata": {
    "collapsed": false,
    "pycharm": {
     "name": "#%%\n"
    }
   }
  },
  {
   "cell_type": "markdown",
   "source": [
    "### Punto 3\n",
    "## Cual es la resolución enfrecuencia de cada ventana?\n",
    "La resolución de la ventana es igual a fs/ N, donde fs es la frecuencia de sampling (44100hs) y N es la longitud de la ventana\n",
    "\n",
    "## qué ventaja tiene utilizar la ventana de Hammingfrente a la rectangular?\n",
    "La ventana de Hamming es más eficiente en el sentido que presenta una lobulo principal mas angosto y unos lobulos seucndarios mas pequeños que la ventana rectangular para la mísma cantidad de muestras\n"
   ],
   "metadata": {
    "collapsed": false
   }
  },
  {
   "cell_type": "code",
   "execution_count": null,
   "outputs": [],
   "source": [
    "np.array(range(window.size))/samplerate"
   ],
   "metadata": {
    "collapsed": false,
    "pycharm": {
     "name": "#%%\n"
    }
   }
  },
  {
   "cell_type": "code",
   "execution_count": null,
   "outputs": [],
   "source": [
    "%python.ipython\n",
    "%matplotlib inline\n",
    "total_length = 250\n",
    "window_length = 25\n",
    "center = total_length/2\n",
    "window = np.concatenate((np.zeros(int(center - window_length)), signal.windows.boxcar(window_length*2), np.zeros(int(total_length - center - window_length))), axis=None)\n",
    "\n",
    "fig = p.figure(figsize=(20,8))\n",
    "\n",
    "ax = p.subplot(211)\n",
    "ax.set_xlabel('time [s]')\n",
    "ax.set_ylabel('Amplitude')\n",
    "ax.set_title('Square (boxcar) window over time')\n",
    "p.plot(np.array(range(window.size))/samplerate , window)\n",
    "\n",
    "\n",
    "ax = p.subplot(212)\n",
    "ax.set_title('Specral density of the square window')\n",
    "p.psd(window,  Fs=samplerate);\n",
    "\n",
    "fig.tight_layout()"
   ],
   "metadata": {
    "collapsed": false,
    "pycharm": {
     "name": "#%%\n"
    }
   }
  },
  {
   "cell_type": "code",
   "execution_count": null,
   "outputs": [],
   "source": [
    "%python.ipython\n",
    "%matplotlib inline\n",
    "\n",
    "window = window = np.concatenate((np.zeros(100), signal.windows.hamming(50), np.zeros(100)), axis=None) \n",
    "\n",
    "fig = p.figure(figsize=(20,8))\n",
    "\n",
    "ax = p.subplot(211)\n",
    "ax.set_xlabel('time [s]')\n",
    "ax.set_ylabel('Amplitude')\n",
    "ax.set_title('Hamming window over time')\n",
    "p.plot(np.array(range(window.size))/samplerate , window)\n",
    "\n",
    "ax = p.subplot(212)\n",
    "ax.set_title('Specral density of the hamming window')\n",
    "p.psd(window,  Fs = samplerate);\n",
    "\n",
    "fig.tight_layout()"
   ],
   "metadata": {
    "collapsed": false,
    "pycharm": {
     "name": "#%%\n"
    }
   }
  },
  {
   "cell_type": "code",
   "execution_count": null,
   "outputs": [],
   "source": [
    "%python.ipython\n",
    "%matplotlib inline\n",
    "\n",
    "window = np.concatenate((np.zeros(100), signal.windows.boxcar(10), np.zeros(100)), axis=None)\n",
    "# f, t, Sxx = signal.spectrogram(window, samplerate)\n",
    "\n",
    "# p.subplot(211)\n",
    "# p.pcolormesh(t, f, Sxx*10**3, shading='gouraud')\n",
    "# p.show()\n",
    "p.figure(figsize=(20,8))\n",
    "p.subplot(211)\n",
    "p.specgram(df['avg'], Fs=samplerate, NFFT=500, window=mplt.mlab.window_hanning)\n",
    "p.subplot(212)\n",
    "p.specgram(df['avg'], Fs=samplerate, NFFT=256, window=mplt.mlab.window_none)\n",
    "\n",
    "p.show()"
   ],
   "metadata": {
    "collapsed": false,
    "pycharm": {
     "name": "#%%\n"
    }
   }
  },
  {
   "cell_type": "markdown",
   "source": [
    "### Ejercicio 4.\n",
    "Implemente un sistema para reducir la frecuencia de muestreo del audio, de 44100 Hz a 5512.5Hz. Muestre un diagrama en bloques y justifique su diseño. Diseñe el filtro pasabajos mediante el método de ventaneo explicando y justificando las decisiones, de forma tal que su retardo sea menor a 1 ms. Graficar undiagrama de polos y ceros, respuesta en frecuencia (módulo y fase), respuesta al impulso, y retardo de grupo\n",
    "\n",
    "\n",
    "x[n] -> pasabajos -> ↓8 \n",
    "Cuando la señal se corta aparecen discontinuidades lo que provoca altas frecuencias entonces primero se aplica un pasabajos para evitar aliasing. El pasabajos tiene que ser de tal forma que tenga retardo menor al 1ms. El retardo está dado por N/2 donde N es el orden del filtro. Como el sampling original es de 44100Hz para que el retardo sea menor a 1ms entonces N debe ser menor a 88 (en un milisegundo hay 44.1 muestras). \n",
    "\n"
   ],
   "metadata": {
    "collapsed": false
   }
  },
  {
   "cell_type": "code",
   "execution_count": null,
   "outputs": [],
   "source": [
    "%python.ipython\n",
    "%matplotlib inline\n",
    "\n",
    "Fs = samplerate\n",
    "nyq = Fs / 2\n",
    "length = 80\n",
    "F_high = 5512\n",
    "b = signal.firwin(length, cutoff = F_high / nyq, window=\"hann\")\n",
    "op_1 = signal.lfilter(b, 1, df['avg'])\n",
    "fft = np.fft.fft(op_1)\n",
    "freq = np.fft.fftfreq(df['t'].shape[-1], 1/samplerate)\n",
    "df['avg_filtered'] = op_1\n",
    "df['avg_filtered_fft'] = fft\n",
    "\n",
    "\n",
    "fig = p.figure(figsize=(20,8))\n",
    "ax = p.subplot(311)\n",
    "ax.set_xlabel('time [s]')\n",
    "ax.set_ylabel('Amplitude')\n",
    "ax.set_title('Original signal after aplying a low pass filter with a hanning window')\n",
    "p.plot(df['t'], df['avg_filtered'])\n",
    "\n",
    "\n",
    "ax = p.subplot(312)\n",
    "ax.set_xlabel('frequency[Hz]')\n",
    "ax.set_ylabel('|Frecuency response|')\n",
    "ax.set_title('Absolute value of the fft ov the original signal after aplying a low pass filter with a hanning window')\n",
    "p.plot(freq, abs(df['avg_filtered_fft']))\n",
    "\n",
    "ax = p.subplot(313)\n",
    "ax.set_xlabel('frequency[Hz]')\n",
    "ax.set_ylabel('Spectral desity')\n",
    "ax.set_title('Spectral density of the original signal after aplying a low pass filter with a hanning window')\n",
    "p.psd(df['avg_filtered'],  Fs = samplerate)\n",
    "\n",
    "fig.tight_layout()\n",
    "p.show()\n",
    "\n"
   ],
   "metadata": {
    "collapsed": false,
    "pycharm": {
     "name": "#%%\n"
    }
   }
  },
  {
   "cell_type": "code",
   "execution_count": null,
   "outputs": [],
   "source": [
    "%python.ipython\n"
   ],
   "metadata": {
    "collapsed": false,
    "pycharm": {
     "name": "#%%\n"
    }
   }
  },
  {
   "cell_type": "code",
   "execution_count": null,
   "outputs": [],
   "source": [
    "%python.ipython\n",
    "compression_factor = 8\n",
    "compress_sample = lambda sample, compression_factor: map(lambda tup: tup[0], filter(lambda tup: tup[1]%compression_factor == 0, zip(sample, i.count(0,1))))\n",
    "compress_sample_df = lambda df, compression_factor: df[df.index % compression_factor == 0]\n"
   ],
   "metadata": {
    "collapsed": false,
    "pycharm": {
     "name": "#%%\n"
    }
   }
  },
  {
   "cell_type": "code",
   "execution_count": null,
   "outputs": [],
   "source": [
    "%python.ipython\n",
    "freq.size\n",
    "compressed_df['avg_filtered'].size\n",
    "compressed_df\n",
    "np.fft.fftfreq(compressed_df['t'].shape[-1], 8/samplerate).size\n"
   ],
   "metadata": {
    "collapsed": false,
    "pycharm": {
     "name": "#%%\n"
    }
   }
  },
  {
   "cell_type": "code",
   "execution_count": null,
   "outputs": [],
   "source": [
    "%python.ipython\n",
    "%matplotlib inline\n",
    "\n",
    "compressed_df = compress_sample_df(df[['t', 'avg_filtered']], compression_factor).reset_index(inplace=False)\n",
    "compressed_df['avg_filtered_fft']= np.fft.fft(compressed_df['avg_filtered'])\n",
    "freq = np.fft.fftfreq(compressed_df['t'].shape[-1], 8/samplerate)\n",
    "\n",
    "fig = p.figure(figsize=(20,8))\n",
    "ax = p.subplot(311)\n",
    "ax.set_xlabel('time [s]')\n",
    "ax.set_ylabel('Amplitude')\n",
    "ax.set_title('Filtered and decimated signal')\n",
    "p.plot(compressed_df['t'], compressed_df['avg_filtered'])\n",
    "\n",
    "ax = p.subplot(313)\n",
    "ax.set_title('Spectral density of the filtered and decimated signal')\n",
    "p.psd(compressed_df['avg_filtered'],  Fs = samplerate/8)\n",
    "\n",
    "ax = p.subplot(312)\n",
    "ax.set_xlabel('frequency[Hz]')\n",
    "ax.set_ylabel('|Frecuency response|')\n",
    "ax.set_title('Absolute value of the fft ov the filtered and decimated signal')\n",
    "p.plot(freq, abs(compressed_df['avg_filtered_fft']))\n",
    "\n",
    "fig.tight_layout()\n",
    "p.show()"
   ],
   "metadata": {
    "collapsed": false,
    "pycharm": {
     "name": "#%%\n"
    }
   }
  },
  {
   "cell_type": "code",
   "execution_count": null,
   "outputs": [],
   "source": [
    "%python.ipython\n",
    "%matplotlib inline\n",
    "\n",
    "# compressed_df['fft'] = np.fft.fft(compressed_df['avg'])\n",
    "# freq = np.fft.fftfreq(compressed_df['t'].shape[-1], 1/samplerate)\n",
    "# p.figure(figsize=(20,8))\n",
    "# p.subplot(211)\n",
    "# p.plot(freq, abs(compressed_df['fft']))\n",
    "\n",
    "# total_length = freq.size\n",
    "# window_length = int(5512)\n",
    "# center = total_length/2\n",
    "# window = np.concatenate((np.zeros(int(center - window_length)), signal.windows.boxcar(window_length*2), np.zeros(int(total_length - center - window_length))), axis=None)\n",
    "# p.plot(np.roll(freq[:-1], int(freq[:-1].size/2)), 1000*window, color='r')\n",
    "# p.show()"
   ],
   "metadata": {
    "collapsed": false,
    "pycharm": {
     "name": "#%%\n"
    }
   }
  },
  {
   "cell_type": "code",
   "execution_count": null,
   "outputs": [],
   "source": [
    "%python.ipython\n",
    "w, h = signal.freqz(b)\n",
    "\n",
    "\n",
    "fig, ax1 = p.subplots(figsize=(20,8))\n",
    "ax1.set_title('Digital filter frequency response')\n",
    "ax1.plot(w, 20 * np.log10(abs(h)), 'b')\n",
    "ax1.set_ylabel('Amplitude [dB]', color='b')\n",
    "ax1.set_xlabel('Frequency [rad/sample]')\n",
    "\n",
    "\n",
    "ax2 = ax1.twinx()\n",
    "angles = np.unwrap(np.angle(h))\n",
    "ax2.plot(w, angles, 'g')\n",
    "ax2.set_ylabel('Angle (radians)', color='g')\n",
    "ax2.grid()\n",
    "ax2.axis('tight')\n",
    "\n",
    "p.show()"
   ],
   "metadata": {
    "collapsed": false,
    "pycharm": {
     "name": "#%%\n"
    }
   }
  },
  {
   "cell_type": "code",
   "execution_count": null,
   "outputs": [],
   "source": [
    "%python.ipython\n",
    "import numpy as np\n",
    "import matplotlib.pyplot as plt\n",
    "from  matplotlib import patches\n",
    "from matplotlib.figure import Figure\n",
    "from matplotlib import rcParams\n",
    "    \n",
    "def zplane(b,a,filename=None):\n",
    "    \"\"\"Plot the complex z-plane given a transfer function.\n",
    "    \"\"\"\n",
    "\n",
    "    # get a figure/plot\n",
    "    ax = plt.subplot(111)\n",
    "\n",
    "    # create the unit circle\n",
    "    uc = patches.Circle((0,0), radius=1, fill=False,\n",
    "                        color='black', ls='dashed')\n",
    "    ax.add_patch(uc)\n",
    "\n",
    "    # The coefficients are less than 1, normalize the coeficients\n",
    "    if np.max(b) > 1:\n",
    "        kn = np.max(b)\n",
    "        b = b/float(kn)\n",
    "    else:\n",
    "        kn = 1\n",
    "\n",
    "    if np.max(a) > 1:\n",
    "        kd = np.max(a)\n",
    "        a = a/float(kd)\n",
    "    else:\n",
    "        kd = 1\n",
    "        \n",
    "    # Get the poles and zeros\n",
    "    p = np.roots(a)\n",
    "    z = np.roots(b)\n",
    "    k = kn/float(kd)\n",
    "    \n",
    "    # Plot the zeros and set marker properties    \n",
    "    t1 = plt.plot(z.real, z.imag, 'go', ms=10)\n",
    "    plt.setp( t1, markersize=10.0, markeredgewidth=1.0,\n",
    "              markeredgecolor='k', markerfacecolor='g')\n",
    "\n",
    "    # Plot the poles and set marker properties\n",
    "    t2 = plt.plot(p.real, p.imag, 'rx', ms=10)\n",
    "    plt.setp( t2, markersize=12.0, markeredgewidth=3.0,\n",
    "              markeredgecolor='r', markerfacecolor='r')\n",
    "\n",
    "    ax.spines['left'].set_position('center')\n",
    "    ax.spines['bottom'].set_position('center')\n",
    "    ax.spines['right'].set_visible(False)\n",
    "    ax.spines['top'].set_visible(False)\n",
    "\n",
    "    # set the ticks\n",
    "    r = 1.5; plt.axis('scaled'); plt.axis([-r, r, -r, r])\n",
    "    ticks = [-1, -.5, .5, 1]; plt.xticks(ticks); plt.yticks(ticks)\n",
    "\n",
    "    if filename is None:\n",
    "        plt.show()\n",
    "    else:\n",
    "        plt.savefig(filename)\n",
    "    \n",
    "\n",
    "    return z, p, k"
   ],
   "metadata": {
    "collapsed": false,
    "pycharm": {
     "name": "#%%\n"
    }
   }
  },
  {
   "cell_type": "code",
   "execution_count": null,
   "outputs": [],
   "source": [
    "%python.ipython\n",
    "p.figure(figsize=(20,8))\n",
    "ax = p.subplot(111)\n",
    "\n",
    "ax.set_title('Filter Zeroes and poles diagram')\n",
    "z, poles, k = zplane(b,[1])\n",
    "\n",
    "p.show()"
   ],
   "metadata": {
    "collapsed": false,
    "pycharm": {
     "name": "#%%\n"
    }
   }
  },
  {
   "cell_type": "code",
   "execution_count": null,
   "outputs": [],
   "source": [
    "%python.ipython\n",
    "\n",
    "p.figure(figsize=(20,8))\n",
    "t,y = signal.impulse(([1],b))\n",
    "ax = p.subplot(111)\n",
    "ax.set_xlabel('time [s]')\n",
    "ax.set_ylabel('Amplitude')\n",
    "ax.set_title('Filter impulse response')\n",
    "p.plot(t,y)\n",
    "p.show()"
   ],
   "metadata": {
    "collapsed": false,
    "pycharm": {
     "name": "#%%\n"
    }
   }
  },
  {
   "cell_type": "code",
   "execution_count": null,
   "outputs": [],
   "source": [
    "%python.ipython\n",
    "\n",
    "p.figure(figsize=(20,8))\n",
    "\n",
    "w, gd = signal.group_delay(([1], b),fs = samplerate)\n",
    "ax = p.subplot(111)\n",
    "ax.set_xlabel('time [s]')\n",
    "ax.set_ylabel('Amplitude')\n",
    "ax.set_title('Filter group delay')\n",
    "p.plot(w, gd)\n",
    "p.show()"
   ],
   "metadata": {
    "collapsed": false,
    "pycharm": {
     "name": "#%%\n"
    }
   }
  },
  {
   "cell_type": "markdown",
   "source": [
    " \n",
    "# Ejercicio 5\n",
    "Realice un espectrograma de la señal original y la filtrada y verifique los efectos del filtrado.Indique el tipo y longitud de ventana utilizada.\n",
    "\n",
    "Ventana de hanning de longitud 100ms"
   ],
   "metadata": {
    "collapsed": false
   }
  },
  {
   "cell_type": "code",
   "execution_count": null,
   "outputs": [],
   "source": [
    "%python.ipython\n",
    "%matplotlib inline\n",
    "\n",
    "window = mplt.mlab.window_hanning\n",
    "number_of_points = lambda time_mils, samplerate: int((time_mils/1000)*samplerate)\n",
    "fig = p.figure(figsize=(20,8))\n",
    "\n",
    "ax = p.subplot(311)\n",
    "ax.set_xlabel('time [s]')\n",
    "ax.set_ylabel('Frequency Hz')\n",
    "ax.set_title('Original signal spectrogram')\n",
    "p.specgram(df['avg'], Fs=samplerate, NFFT=number_of_points(100, samplerate), window=window)\n",
    "\n",
    "ax = p.subplot(312)\n",
    "ax.set_xlabel('time [s]')\n",
    "ax.set_ylabel('Frequency Hz')\n",
    "ax.set_title('Filtered (Hanning) signal spectrogram')\n",
    "p.specgram(df['avg_filtered'], Fs=samplerate, NFFT=number_of_points(100, samplerate), window=window)\n",
    "fig.tight_layout()\n",
    "p.show()"
   ],
   "metadata": {
    "collapsed": false,
    "pycharm": {
     "name": "#%%\n"
    }
   }
  },
  {
   "cell_type": "markdown",
   "source": [
    "# Ejercicio 6\n",
    "Realice un espectrograma de la señal sub-muestreada y muestre una imagen (con zoom) de algunaregión donde se vean las características espectrales de la señal dada la ventana utilizada. Muestre y justifiquecómo cambia la visualización de las características con 3 diferentes longitudes de ventana y comente qué longitudutilizará en el algoritmo. Realice las comparaciones con ventana rectangular y de Hamming."
   ],
   "metadata": {
    "collapsed": false
   }
  },
  {
   "cell_type": "code",
   "execution_count": null,
   "outputs": [],
   "source": [
    "%python.ipython\n",
    "fig = p.figure(figsize=(20,20))\n",
    "decimated_signal = compressed_df['avg_filtered']\n",
    "smpl_rate = samplerate/8\n",
    "# windows = [(\"Hanning\",mplt.mlab.window_hanning), ]\n",
    "ax = p.subplot(611)\n",
    "ax.set_xlabel('time [s]')\n",
    "ax.set_ylabel('Frequency Hz')\n",
    "ax.set_title('Subsampled signal spectrogram. Hanning window, 50ms of lentgh')\n",
    "p.specgram(decimated_signal, Fs=smpl_rate, NFFT=number_of_points(50, smpl_rate), window=mplt.mlab.window_hanning)\n",
    "\n",
    "ax = p.subplot(612)\n",
    "ax.set_xlabel('time [s]')\n",
    "ax.set_ylabel('Frequency Hz')\n",
    "ax.set_title('Subsampled signal spectrogram. Rectangular window, 50ms of lentgh')\n",
    "p.specgram(decimated_signal, Fs=smpl_rate, NFFT=number_of_points(50, smpl_rate), window=signal.windows.boxcar(number_of_points(50, smpl_rate)))\n",
    "\n",
    "ax = p.subplot(613)\n",
    "ax.set_xlabel('time [s]')\n",
    "ax.set_ylabel('Frequency Hz')\n",
    "ax.set_title('Subsampled signal spectrogram. Hanning window, 150ms of lentgh')\n",
    "p.specgram(decimated_signal, Fs=smpl_rate, NFFT=number_of_points(150, smpl_rate), window=mplt.mlab.window_hanning)\n",
    "\n",
    "ax = p.subplot(614)\n",
    "ax.set_xlabel('time [s]')\n",
    "ax.set_ylabel('Frequency Hz')\n",
    "ax.set_title('Subsampled signal spectrogram. Rectangular window, 150ms of lentgh')\n",
    "p.specgram(decimated_signal, Fs=smpl_rate, NFFT=number_of_points(150, smpl_rate), window=signal.windows.boxcar(number_of_points(150, smpl_rate)))\n",
    "\n",
    "\n",
    "ax = p.subplot(615)\n",
    "ax.set_xlabel('time [s]')\n",
    "ax.set_ylabel('Frequency Hz')\n",
    "ax.set_title('Subsampled signal spectrogram. Hanning window, 25ms of lentgh')\n",
    "p.specgram(decimated_signal, Fs=smpl_rate, NFFT=number_of_points(25, smpl_rate), window=mplt.mlab.window_hanning)\n",
    "\n",
    "ax = p.subplot(616)\n",
    "ax.set_xlabel('time [s]')\n",
    "ax.set_ylabel('Frequency Hz')\n",
    "ax.set_title('Subsampled signal spectrogram. Rectangular window, 25ms of lentgh')\n",
    "p.specgram(decimated_signal, Fs=smpl_rate, NFFT=number_of_points(25, smpl_rate), window=signal.windows.boxcar(number_of_points(25, smpl_rate)))\n",
    "\n",
    "\n",
    "fig.tight_layout()\n",
    "p.show()"
   ],
   "metadata": {
    "collapsed": false,
    "pycharm": {
     "name": "#%%\n"
    }
   }
  },
  {
   "cell_type": "code",
   "execution_count": null,
   "outputs": [],
   "source": [
    "%python.ipython\n",
    "plt.figure(figsize=(20,8))\n",
    "spec, freq, t, img = p.specgram(decimated_signal, Fs=smpl_rate, NFFT=number_of_points(50, smpl_rate), window=mplt.mlab.window_hanning)\n",
    "\n"
   ],
   "metadata": {
    "collapsed": false,
    "pycharm": {
     "name": "#%%\n"
    }
   }
  },
  {
   "cell_type": "code",
   "execution_count": null,
   "outputs": [],
   "source": [
    "%python.ipython\n",
    "print(\"spectra length:%i\"%(spec.size))\n",
    "print(\"number of spectra / windows :%i\"%(spec[0].size))\n",
    "print(\"number of frequencies %i\"%(freq.size))\n",
    "print(\"number of t %i\"%(t.size))"
   ],
   "metadata": {
    "collapsed": false,
    "pycharm": {
     "name": "#%%\n"
    }
   }
  },
  {
   "cell_type": "code",
   "execution_count": null,
   "outputs": [],
   "source": [
    "%python.ipython\n",
    "bands = np.concatenate((np.array([0]), np.geomspace(300, 2000, num=21)[1:], np.array([np.inf])), axis=None)\n",
    "buckets = list(mi.pairwise(bands))\n",
    "\n"
   ],
   "metadata": {
    "collapsed": false,
    "pycharm": {
     "name": "#%%\n"
    }
   }
  },
  {
   "cell_type": "code",
   "execution_count": null,
   "outputs": [],
   "source": [
    "%python.ipython\n",
    "def find_new_freq_band(f, bands):\n",
    "    return list(filter(lambda band: band[0] <= f and f <= band[1], bands))[0][0]\n",
    "    \n"
   ],
   "metadata": {
    "collapsed": false,
    "pycharm": {
     "name": "#%%\n"
    }
   }
  },
  {
   "cell_type": "code",
   "execution_count": null,
   "outputs": [],
   "source": [
    "%python.ipython\n",
    "spectrum_lists = spec[0]\n",
    "def remap_frequencies(spectrum):\n",
    "    freq_to_energy_list = zip(spectrum, freq)\n",
    "    energy_band_new_relation = map(lambda energy_freq: (energy_freq[0], find_new_freq_band(energy_freq[1], buckets)) , freq_to_energy_list)\n",
    "    grouped_by_frequencies = mi.groupby_transform(energy_band_new_relation, lambda e_f: e_f[1], lambda e_f: e_f[0])\n",
    "    frequency_energy_sum = map(lambda kv: (kv[0], sum(kv[1])), grouped_by_frequencies) \n",
    "    return list(mi.unzip(frequency_energy_sum)[1])\n",
    "\n",
    "new_spec = np.array(list(map(lambda s: np.array(remap_frequencies(s)), spec.T))).T"
   ],
   "metadata": {
    "collapsed": false,
    "pycharm": {
     "name": "#%%\n"
    }
   }
  },
  {
   "cell_type": "code",
   "execution_count": null,
   "outputs": [],
   "source": [
    "%python.ipython\n",
    "t.size"
   ],
   "metadata": {
    "collapsed": false,
    "pycharm": {
     "name": "#%%\n"
    }
   }
  },
  {
   "cell_type": "code",
   "execution_count": null,
   "outputs": [],
   "source": [
    "%python.ipython\n",
    "fig = plt.figure(figsize=(20,8))\n",
    "ax = plt.subplot(111)\n",
    "# ax.set_xticks(np.arange(freq.size), freq)\n",
    "plt.yticks(np.arange(freq.size,0, -3), freq[::3])\n",
    "# ax.set_yticks(t)\n",
    "ax.imshow(10*np.log10(np.flipud(spec)))\n",
    "fig.tight_layout()\n",
    "plt.show()"
   ],
   "metadata": {
    "collapsed": false,
    "pycharm": {
     "name": "#%%\n"
    }
   }
  },
  {
   "cell_type": "code",
   "execution_count": null,
   "outputs": [],
   "source": [
    "%python.ipython\n",
    "\n",
    "fig = plt.figure(figsize=(20,8))\n",
    "ax = plt.subplot(111)\n",
    "# ax.set_xticks(np.arange(freq.size), freq)\n",
    "# plt.yticks(np.arange(bands.size,0, -1), bands[::1])\n",
    "# ax.set_yticks(t)\n",
    "ax.imshow(10*np.log10(np.flipud(new_spec)))\n",
    "fig.tight_layout()\n",
    "plt.show()"
   ],
   "metadata": {
    "collapsed": false,
    "pycharm": {
     "name": "#%%\n"
    }
   }
  },
  {
   "cell_type": "code",
   "execution_count": null,
   "outputs": [],
   "source": [
    "%python.ipython\n",
    "\n",
    "def generate_h(e):\n",
    "    h = np.zeros((len(e)-1, len(e[0])))\n",
    "    for row_idx in range(1,len(e)-1):\n",
    "        for col_idx in range(1,len(e[row_idx])-1):\n",
    "            h[row_idx][col_idx] =  int(e[row_idx+1][col_idx] - e[row_idx][col_idx] > e[row_idx+1][col_idx-1] - e[row_idx][col_idx-1])\n",
    "    return h\n",
    "\n",
    "    "
   ],
   "metadata": {
    "collapsed": false,
    "pycharm": {
     "name": "#%%\n"
    }
   }
  },
  {
   "cell_type": "code",
   "execution_count": null,
   "outputs": [],
   "source": [
    "%python.ipython\n",
    "h = generate_h(new_spec)\n",
    "fig = plt.figure(figsize=(20,8))\n",
    "ax = plt.subplot(111)\n",
    "ax.imshow(h)\n",
    "fig.tight_layout()\n",
    "plt.show()"
   ],
   "metadata": {
    "collapsed": false,
    "pycharm": {
     "name": "#%%\n"
    }
   }
  },
  {
   "cell_type": "code",
   "execution_count": null,
   "outputs": [],
   "source": [
    "%python.ipython\n",
    "def generate_footprint(song_array, samplerate):\n",
    "    df = pd.DataFrame(song_array)\n",
    "    df['t'] = df.index / samplerate\n",
    "    df['avg'] = df[[0, 1]].apply(np.average, axis=1)\n",
    "    df['fft'] = np.fft.fft(df['avg'])\n",
    "\n",
    "    fs = samplerate\n",
    "    nyq = fs / 2\n",
    "    length = 80\n",
    "    f_high = 5512\n",
    "    b = signal.firwin(length, cutoff=f_high / nyq, window=\"hann\")\n",
    "    op_1 = signal.lfilter(b, 1, df['avg'])\n",
    "    fft = np.fft.fft(op_1)\n",
    "    freq = np.fft.fftfreq(df['t'].shape[-1], 1 / samplerate)\n",
    "    df['avg_filtered'] = op_1\n",
    "    df['avg_filtered_fft'] = fft\n",
    "    compression_factor = 8\n",
    "    compress_sample_df = lambda df, compression_factor: df[df.index % compression_factor == 0]\n",
    "\n",
    "    compressed_df = compress_sample_df(df[['t', 'avg_filtered']], compression_factor).reset_index(inplace=False)\n",
    "    compressed_df['avg_filtered_fft'] = np.fft.fft(compressed_df['avg_filtered'])\n",
    "\n",
    "    number_of_points = lambda time_mils, samplerate: int((time_mils / 1000) * samplerate)\n",
    "    decimated_signal = compressed_df['avg_filtered']\n",
    "    smpl_rate = samplerate / 8\n",
    "    spec, freq, t, img = p.specgram(decimated_signal, Fs=smpl_rate, NFFT=number_of_points(50, smpl_rate),\n",
    "                                    window=mplt.mlab.window_hanning)\n",
    "    bands = np.concatenate((np.array([0]), np.geomspace(300, 2000, num=21)[1:], np.array([np.inf])), axis=None)\n",
    "    buckets = list(mi.pairwise(bands))\n",
    "\n",
    "    def find_new_freq_band(f, bands):\n",
    "        return list(filter(lambda band: band[0] <= f <= band[1], bands))[0][0]\n",
    "\n",
    "    def remap_frequencies(spectrum):\n",
    "        freq_to_energy_list = zip(spectrum, freq)\n",
    "        energy_band_new_relation = map(\n",
    "            lambda energy_freq: (energy_freq[0], find_new_freq_band(energy_freq[1], buckets)), freq_to_energy_list)\n",
    "        grouped_by_frequencies = mi.groupby_transform(energy_band_new_relation, lambda e_f: e_f[1], lambda e_f: e_f[0])\n",
    "        frequency_energy_sum = map(lambda kv: (kv[0], sum(kv[1])), grouped_by_frequencies)\n",
    "        return list(mi.unzip(frequency_energy_sum)[1])\n",
    "\n",
    "    new_spec = np.array(list(map(lambda s: np.array(remap_frequencies(s)), spec.T))).T\n",
    "\n",
    "    def generate_h(e):\n",
    "        h = np.zeros((len(e) - 1, len(e[0])))\n",
    "        for row_idx in range(1, len(e) - 1):\n",
    "            for col_idx in range(1, len(e[row_idx]) - 1):\n",
    "                h[row_idx][col_idx] = int(\n",
    "                    e[row_idx + 1][col_idx] - e[row_idx][col_idx] > e[row_idx + 1][col_idx - 1] - e[row_idx][\n",
    "                        col_idx - 1])\n",
    "        return h\n",
    "\n",
    "    return generate_h(new_spec)\n",
    "h= generate_footprint(data, samplerate)"
   ],
   "metadata": {
    "collapsed": false,
    "pycharm": {
     "name": "#%%\n"
    }
   }
  },
  {
   "cell_type": "code",
   "execution_count": null,
   "outputs": [],
   "source": [
    "%python.ipython\n",
    "%matplotlib inline\n",
    "fig = plt.figure(figsize=(20,8))\n",
    "ax = plt.subplot(111)\n",
    "ax.imshow(h)\n",
    "fig.tight_layout()\n",
    "plt.show()"
   ],
   "metadata": {
    "collapsed": false,
    "pycharm": {
     "name": "#%%\n"
    }
   }
  },
  {
   "cell_type": "code",
   "execution_count": null,
   "outputs": [],
   "source": [
    "%python.ipython\n",
    "import csv \n",
    "from collections import Counter\n",
    "\n",
    "class Database:\n",
    "    def __init__(self,connection):\n",
    "        self.connection = connection\n",
    "        self.hash_nbits = 20\n",
    "        self.n_entries = 20\n",
    "        self.id_nbits = 12\n",
    "        self.tabla = np.zeros((2**self.hash_nbits,self.n_entries), dtype=int)\n",
    "    \n",
    "    def save_footprint(self, id ,footprint):\n",
    "        for frame_idx in range(len(footprint)):\n",
    "            self.connection.save(id, footprint[frame_idx] ,frame_idx)\n",
    "    \n",
    "    def query(self, footprint):\n",
    "        frame_count  = len(footprint)\n",
    "        matches = filter(lambda id_frame: id_frame[1] <= frame_count , \n",
    "                    mi.flatten(map(lambda frame: self.connection.query_by_footprint(list(frame)), footprint)))\n",
    "        apparences_count = map(lambda id_list: (id_list[0], mi.ilen(id_list[1])), i.groupby(matches,key = lambda kv: kv[0]))\n",
    "        return mi.take(5, (sorted(apparences_count, key=lambda key_count: key_count[1], reverse=True)))\n",
    "\n",
    "class Connection:\n",
    "    def __init__(self):\n",
    "        self.data = []\n",
    "    \n",
    "    def save(self, row):\n",
    "        self.data += row\n",
    "    \n",
    "    def flush(self):\n",
    "        file = open('odd.csv', 'w+', newline ='\\n') \n",
    "        with file:     \n",
    "            write = csv.writer(file) \n",
    "            write.writerows(self.data)     "
   ],
   "metadata": {
    "collapsed": false,
    "pycharm": {
     "name": "#%%\n"
    }
   }
  },
  {
   "cell_type": "code",
   "execution_count": null,
   "outputs": [],
   "source": [
    "%python.ipython\n",
    "import unittest\n",
    "\n",
    "class MockConnection:\n",
    "    def __init__(self):\n",
    "        self.inverted_index = {}\n",
    "        self.data = {}\n",
    "        \n",
    "    def save(self, id, footprint, frame_index):\n",
    "        hash = self.hash_footprint(footprint)\n",
    "        if hash in self.inverted_index:\n",
    "            self.inverted_index[hash] += [(id, frame_index)]\n",
    "            self.data[id] += [footprint]\n",
    "        else:\n",
    "            self.inverted_index[hash] = [(id, frame_index)]\n",
    "            self.data[id] = [footprint]\n",
    "\n",
    "        \n",
    "    def hash_footprint(self,footprint):\n",
    "        return sum(footprint)\n",
    "        \n",
    "    def query_by_id(self, id):\n",
    "        return self.data.get(id)\n",
    "    \n",
    "    def query_by_footprint(self, fp):\n",
    "        return self.inverted_index.get(self.hash_footprint(fp), [])\n",
    "        \n",
    "class TestDatabase(unittest.TestCase):\n",
    "    def test_create_database(self):\n",
    "        connection = MockConnection()\n",
    "        db = Database(connection)\n",
    "        self.assertEqual(db.hash_nbits, 20)\n",
    "        self.assertEqual(db.n_entries, 20)\n",
    "        self.assertEqual(db.id_nbits, 12)\n",
    "        self.assertEqual(db.tabla.size, 20 * (2**20))\n",
    "    \n",
    "    def test_save_song_footprint_then_song_was_written(self):\n",
    "        connection = MockConnection()\n",
    "        db = Database(connection)\n",
    "        id = \"song\"\n",
    "        h = np.zeros((21,300))\n",
    "\n",
    "        db.save_footprint(id, h)\n",
    "        \n",
    "        self.assertEqual(len(connection.data), 1)\n",
    "        \n",
    "        id2 = \"song2\"\n",
    "        h = np.ones((21,300))\n",
    "        db.save_footprint(id2, h)\n",
    "        \n",
    "        self.assertEqual(len(connection.data), 2)\n",
    "        \n",
    "    def test_save_song_then_can_query_song(self):\n",
    "        connection = MockConnection()\n",
    "        db = Database(connection)\n",
    "        id = \"song\"\n",
    "        h = np.zeros((21,300))\n",
    "        h[0] = [i for i in range(len(h[0]))] # enssure no colissions\n",
    "        \n",
    "        db.save_footprint(id, h)\n",
    "        \n",
    "        self.assertEqual(db.query(h), [('song', 401)]) #matches all\n",
    "        \n",
    "        reduced_footprint = h[50:100]\n",
    "        self.assertEqual(db.query(reduced_footprint), [('song', 401)]) \n",
    "\n",
    "        \n",
    "        \n",
    "        \n",
    "        \n",
    "\n",
    "unittest.main(argv=[''], verbosity=2, exit=False)"
   ],
   "metadata": {
    "collapsed": false,
    "pycharm": {
     "name": "#%%\n"
    }
   }
  },
  {
   "cell_type": "code",
   "execution_count": null,
   "outputs": [],
   "source": [
    "%python.ipython\n",
    "\n",
    "matches = [('song', 0), ('song', 1), ('song', 2), ('song', 3), ('song', 4), ('song', 5), ('song', 6), ('song', 7), ('song', 8), ('song', 9), ('song', 10), ('song', 11), ('song', 12), ('song', 13), ('song', 14), ('song', 15), ('song', 16), ('song', 17), ('song', 18), ('song', 19), ('song', 20), ('song', 0), ('song', 1), ('song', 2), ('song', 3), ('song', 4), ('song', 5), ('song', 6), ('song', 7), ('song', 8), ('song', 9), ('song', 10), ('song', 11), ('song', 12), ('song', 13), ('song', 14), ('song', 15), ('song', 16), ('song', 17), ('song', 18), ('song', 19), ('song', 20), ('song', 0), ('song', 1), ('song', 2), ('song', 3), ('song', 4), ('song', 5), ('song', 6), ('song', 7), ('song', 8), ('song', 9), ('song', 10), ('song', 11), ('song', 12), ('song', 13), ('song', 14), ('song', 15), ('song', 16), ('song', 17), ('song', 18), ('song', 19), ('song', 20), ('song', 0), ('song', 1), ('song', 2), ('song', 3), ('song', 4), ('song', 5), ('song', 6), ('song', 7), ('song', 8), ('song', 9), ('song', 10), ('song', 11), ('song', 12), ('song', 13), ('song', 14), ('song', 15), ('song', 16), ('song', 17), ('song', 18), ('song', 19), ('song', 20), ('song', 0), ('song', 1), ('song', 2), ('song', 3), ('song', 4), ('song', 5), ('song', 6), ('song', 7), ('song', 8), ('song', 9), ('song', 10), ('song', 11), ('song', 12), ('song', 13), ('song', 14), ('song', 15), ('song', 16), ('song', 17), ('song', 18), ('song', 19), ('song', 20), ('song', 0), ('song', 1), ('song', 2), ('song', 3), ('song', 4), ('song', 5), ('song', 6), ('song', 7), ('song', 8), ('song', 9), ('song', 10), ('song', 11), ('song', 12), ('song', 13), ('song', 14), ('song', 15), ('song', 16), ('song', 17), ('song', 18), ('song', 19), ('song', 20), ('song', 0), ('song', 1), ('song', 2), ('song', 3), ('song', 4), ('song', 5), ('song', 6), ('song', 7), ('song', 8), ('song', 9), ('song', 10), ('song', 11), ('song', 12), ('song', 13), ('song', 14), ('song', 15), ('song', 16), ('song', 17), ('song', 18), ('song', 19), ('song', 20), ('song', 0), ('song', 1), ('song', 2), ('song', 3), ('song', 4), ('song', 5), ('song', 6), ('song', 7), ('song', 8), ('song', 9), ('song', 10), ('song', 11), ('song', 12), ('song', 13), ('song', 14), ('song', 15), ('song', 16), ('song', 17), ('song', 18), ('song', 19), ('song', 20), ('song', 0), ('song', 1), ('song', 2), ('song', 3), ('song', 4), ('song', 5), ('song', 6), ('song', 7), ('song', 8), ('song', 9), ('song', 10), ('song', 11), ('song', 12), ('song', 13), ('song', 14), ('song', 15), ('song', 16), ('song', 17), ('song', 18), ('song', 19), ('song', 20), ('song', 0), ('song', 1), ('song', 2), ('song', 3), ('song', 4), ('song', 5), ('song', 6), ('song', 7), ('song', 8), ('song', 9), ('song', 10), ('song', 11), ('song', 12), ('song', 13), ('song', 14), ('song', 15), ('song', 16), ('song', 17), ('song', 18), ('song', 19), ('song', 20), ('song', 0), ('song', 1), ('song', 2), ('song', 3), ('song', 4), ('song', 5), ('song', 6), ('song', 7), ('song', 8), ('song', 9), ('song', 10), ('song', 11), ('song', 12), ('song', 13), ('song', 14), ('song', 15), ('song', 16), ('song', 17), ('song', 18), ('song', 19), ('song', 20), ('song', 0), ('song', 1), ('song', 2), ('song', 3), ('song', 4), ('song', 5), ('song', 6), ('song', 7), ('song', 8), ('song', 9), ('song', 10), ('song', 11), ('song', 12), ('song', 13), ('song', 14), ('song', 15), ('song', 16), ('song', 17), ('song', 18), ('song', 19), ('song', 20), ('song', 0), ('song', 1), ('song', 2), ('song', 3), ('song', 4), ('song', 5), ('song', 6), ('song', 7), ('song', 8), ('song', 9), ('song', 10), ('song', 11), ('song', 12), ('song', 13), ('song', 14), ('song', 15), ('song', 16), ('song', 17), ('song', 18), ('song', 19), ('song', 20), ('song', 0), ('song', 1), ('song', 2), ('song', 3), ('song', 4), ('song', 5), ('song', 6), ('song', 7), ('song', 8), ('song', 9), ('song', 10), ('song', 11), ('song', 12), ('song', 13), ('song', 14), ('song', 15), ('song', 16), ('song', 17), ('song', 18), ('song', 19), ('song', 20), ('song', 0), ('song', 1), ('song', 2), ('song', 3), ('song', 4), ('song', 5), ('song', 6), ('song', 7), ('song', 8), ('song', 9), ('song', 10), ('song', 11), ('song', 12), ('song', 13), ('song', 14), ('song', 15), ('song', 16), ('song', 17), ('song', 18), ('song', 19), ('song', 20), ('song', 0), ('song', 1), ('song', 2), ('song', 3), ('song', 4), ('song', 5), ('song', 6), ('song', 7), ('song', 8), ('song', 9), ('song', 10), ('song', 11), ('song', 12), ('song', 13), ('song', 14), ('song', 15), ('song', 16), ('song', 17), ('song', 18), ('song', 19), ('song', 20), ('song', 0), ('song', 1), ('song', 2), ('song', 3), ('song', 4), ('song', 5), ('song', 6), ('song', 7), ('song', 8), ('song', 9), ('song', 10), ('song', 11), ('song', 12), ('song', 13), ('song', 14), ('song', 15), ('song', 16), ('song', 17), ('song', 18), ('song', 19), ('song', 20), ('song', 0), ('song', 1), ('song', 2), ('song', 3), ('song', 4), ('song', 5), ('song', 6), ('song', 7), ('song', 8), ('song', 9), ('song', 10), ('song', 11), ('song', 12), ('song', 13), ('song', 14), ('song', 15), ('song', 16), ('song', 17), ('song', 18), ('song', 19), ('song', 20), ('song', 0), ('song', 1), ('song', 2), ('song', 3), ('song', 4), ('song', 5), ('song', 6), ('song', 7), ('song', 8), ('song', 9), ('song', 10), ('song', 11), ('song', 12), ('song', 13), ('song', 14), ('song', 15), ('song', 16), ('song', 17), ('song', 18), ('song', 19), ('song', 20), ('song', 0), ('song', 1), ('song', 2), ('song', 3), ('song', 4), ('song', 5), ('song', 6), ('song', 7), ('song', 8), ('song', 9), ('song', 10), ('song', 11), ('song', 12), ('song', 13), ('song', 14), ('song', 15), ('song', 16), ('song', 17), ('song', 18), ('song', 19), ('song', 20), ('song', 0), ('song', 1), ('song', 2), ('song', 3), ('song', 4), ('song', 5), ('song', 6), ('song', 7), ('song', 8), ('song', 9), ('song', 10), ('song', 11), ('song', 12), ('song', 13), ('song', 14), ('song', 15), ('song', 16), ('song', 17), ('song', 18), ('song', 19), ('song', 20)]\n",
    "apparences_count = map(lambda id_list: (id_list[0], mi.ilen(id_list[1])), i.groupby(matches,key = lambda kv: kv[0]))\n",
    "mi.take(5, (sorted(apparences_count, key=lambda key_count: key_count[1])))\n"
   ],
   "metadata": {
    "collapsed": false,
    "pycharm": {
     "name": "#%%\n"
    }
   }
  },
  {
   "cell_type": "code",
   "execution_count": null,
   "outputs": [],
   "source": [
    "%python.ipython\n",
    "x ="
   ],
   "metadata": {
    "collapsed": false,
    "pycharm": {
     "name": "#%%\n"
    }
   }
  },
  {
   "cell_type": "code",
   "execution_count": null,
   "outputs": [],
   "source": [
    "%python.ipython\n"
   ],
   "metadata": {
    "collapsed": false,
    "pycharm": {
     "name": "#%%\n"
    }
   }
  }
 ]
}