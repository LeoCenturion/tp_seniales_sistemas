﻿{
  "metadata": {
    "name": "Untitled Note 1",
    "kernelspec": {
      "language": "scala",
      "name": "spark2-scala"
    },
    "language_info": {
      "codemirror_mode": "text/x-scala",
      "file_extension": ".scala",
      "mimetype": "text/x-scala",
      "name": "scala",
      "pygments_lexer": "scala"
    }
  },
  "nbformat": 4,
  "nbformat_minor": 2,
  "cells": [
    {
      "cell_type": "code",
      "execution_count": 0,
      "metadata": {
        "autoscroll": "auto"
      },
      "outputs": [],
      "source": "%python.ipython\nimport pandas as pd\nimport matplotlib.pyplot as p\nimport matplotlib as mplt\nimport numpy as np\nfrom scipy import signal\nimport soundfile as sf\nimport itertools as i\nimport more_itertools as mi"
    },
    {
      "cell_type": "code",
      "execution_count": 1,
      "metadata": {
        "autoscroll": "auto"
      },
      "outputs": [],
      "source": "%python.ipython\n"
    },
    {
      "cell_type": "code",
      "execution_count": 2,
      "metadata": {
        "autoscroll": "auto"
      },
      "outputs": [],
      "source": "%python.ipython\n\ndata, samplerate \u003d sf.read(\u0027/home/leonardo/Documents/seniales/tp/extras/Pink.ogg\u0027)"
    },
    {
      "cell_type": "code",
      "execution_count": 3,
      "metadata": {
        "autoscroll": "auto"
      },
      "outputs": [],
      "source": "\ndf \u003d pd.DataFrame(data)\ndf[\u0027t\u0027] \u003d df.index /samplerate\ndf[\u0027avg\u0027] \u003d df[[0,1]].apply( np.average, axis\u003d1)\n\n"
    },
    {
      "cell_type": "code",
      "execution_count": 4,
      "metadata": {
        "autoscroll": "auto"
      },
      "outputs": [],
      "source": "df[\u0027fft\u0027] \u003d np.fft.fft(df[\u0027avg\u0027])"
    },
    {
      "cell_type": "code",
      "execution_count": 5,
      "metadata": {
        "autoscroll": "auto"
      },
      "outputs": [],
      "source": "%python.ipython\n%matplotlib inline\n\nfig \u003d p.figure(figsize\u003d(20,8))\n\nax \u003d p.subplot(311)\nax.set_xlabel(\u0027time [s]\u0027)\nax.set_ylabel(\u0027Amplitude\u0027)\nax.set_title(\u0027Original signal over time\u0027)\np.plot(df[\u0027t\u0027], df[\u0027avg\u0027])\n\n\nax \u003d p.subplot(312)\nax.set_title(\u0027Spectral density of the original signal\u0027)\np.psd(df[\u0027avg\u0027],  Fs \u003d samplerate);\n\nfft \u003d np.fft.fft(df[\u0027avg\u0027])\nfreq \u003d np.fft.fftfreq(df[\u0027t\u0027].shape[-1], 1/samplerate)\n\nax \u003d p.subplot(313)\nax.set_xlabel(\u0027time [s]\u0027)\nax.set_ylabel(\u0027Amplitude\u0027)\nax.set_title(\u0027Absolute value of the fft of the original signal\u0027)\np.plot(freq, abs(fft))\n\nfig.tight_layout()\np.show()"
    },
    {
      "cell_type": "markdown",
      "metadata": {},
      "source": "### Punto 3\n## Cual es la resolución enfrecuencia de cada ventana?\nLa resolución de la ventana es igual a fs/ N, donde fs es la frecuencia de sampling (44100hs) y N es la longitud de la ventana\n\n## qué ventaja tiene utilizar la ventana de Hammingfrente a la rectangular?\nLa ventana de Hamming es más eficiente en el sentido que presenta una lobulo principal mas angosto y unos lobulos seucndarios mas pequeños que la ventana rectangular para la mísma cantidad de muestras\n"
    },
    {
      "cell_type": "code",
      "execution_count": 7,
      "metadata": {
        "autoscroll": "auto"
      },
      "outputs": [],
      "source": "np.array(range(window.size))/samplerate"
    },
    {
      "cell_type": "code",
      "execution_count": 8,
      "metadata": {
        "autoscroll": "auto"
      },
      "outputs": [],
      "source": "%python.ipython\n%matplotlib inline\ntotal_length \u003d 250\nwindow_length \u003d 25\ncenter \u003d total_length/2\nwindow \u003d np.concatenate((np.zeros(int(center - window_length)), signal.windows.boxcar(window_length*2), np.zeros(int(total_length - center - window_length))), axis\u003dNone)\n\nfig \u003d p.figure(figsize\u003d(20,8))\n\nax \u003d p.subplot(211)\nax.set_xlabel(\u0027time [s]\u0027)\nax.set_ylabel(\u0027Amplitude\u0027)\nax.set_title(\u0027Square (boxcar) window over time\u0027)\np.plot(np.array(range(window.size))/samplerate , window)\n\n\nax \u003d p.subplot(212)\nax.set_title(\u0027Specral density of the square window\u0027)\np.psd(window,  Fs\u003dsamplerate);\n\nfig.tight_layout()"
    },
    {
      "cell_type": "code",
      "execution_count": 9,
      "metadata": {
        "autoscroll": "auto"
      },
      "outputs": [],
      "source": "%python.ipython\n%matplotlib inline\n\nwindow \u003d window \u003d np.concatenate((np.zeros(100), signal.windows.hamming(50), np.zeros(100)), axis\u003dNone) \n\nfig \u003d p.figure(figsize\u003d(20,8))\n\nax \u003d p.subplot(211)\nax.set_xlabel(\u0027time [s]\u0027)\nax.set_ylabel(\u0027Amplitude\u0027)\nax.set_title(\u0027Hamming window over time\u0027)\np.plot(np.array(range(window.size))/samplerate , window)\n\nax \u003d p.subplot(212)\nax.set_title(\u0027Specral density of the hamming window\u0027)\np.psd(window,  Fs \u003d samplerate);\n\nfig.tight_layout()"
    },
    {
      "cell_type": "code",
      "execution_count": 10,
      "metadata": {
        "autoscroll": "auto"
      },
      "outputs": [],
      "source": "%python.ipython\n%matplotlib inline\n\nwindow \u003d np.concatenate((np.zeros(100), signal.windows.boxcar(10), np.zeros(100)), axis\u003dNone)\n# f, t, Sxx \u003d signal.spectrogram(window, samplerate)\n\n# p.subplot(211)\n# p.pcolormesh(t, f, Sxx*10**3, shading\u003d\u0027gouraud\u0027)\n# p.show()\np.figure(figsize\u003d(20,8))\np.subplot(211)\np.specgram(df[\u0027avg\u0027], Fs\u003dsamplerate, NFFT\u003d500, window\u003dmplt.mlab.window_hanning)\np.subplot(212)\np.specgram(df[\u0027avg\u0027], Fs\u003dsamplerate, NFFT\u003d256, window\u003dmplt.mlab.window_none)\n\np.show()"
    },
    {
      "cell_type": "markdown",
      "metadata": {},
      "source": "### Ejercicio 4.\nImplemente un sistema para reducir la frecuencia de muestreo del audio, de 44100 Hz a 5512.5Hz. Muestre un diagrama en bloques y justifique su diseño. Diseñe el filtro pasabajos mediante el método de ventaneo explicando y justificando las decisiones, de forma tal que su retardo sea menor a 1 ms. Graficar undiagrama de polos y ceros, respuesta en frecuencia (módulo y fase), respuesta al impulso, y retardo de grupo\n\n\nx[n] -\u003e pasabajos -\u003e ↓8 \nCuando la señal se corta aparecen discontinuidades lo que provoca altas frecuencias entonces primero se aplica un pasabajos para evitar aliasing. El pasabajos tiene que ser de tal forma que tenga retardo menor al 1ms. El retardo está dado por N/2 donde N es el orden del filtro. Como el sampling original es de 44100Hz para que el retardo sea menor a 1ms entonces N debe ser menor a 88 (en un milisegundo hay 44.1 muestras). \n\n"
    },
    {
      "cell_type": "code",
      "execution_count": 12,
      "metadata": {
        "autoscroll": "auto"
      },
      "outputs": [],
      "source": "%python.ipython\n%matplotlib inline\n\nFs \u003d samplerate\nnyq \u003d Fs / 2\nlength \u003d 80\nF_high \u003d 5512\nb \u003d signal.firwin(length, cutoff \u003d F_high / nyq, window\u003d\"hann\")\nop_1 \u003d signal.lfilter(b, 1, df[\u0027avg_filtered\u0027])\n\nfig \u003d p.figure(figsize\u003d(20,8))\nax \u003d p.subplot(311)\nax.set_xlabel(\u0027time [s]\u0027)\nax.set_ylabel(\u0027Amplitude\u0027)\nax.set_title(\u0027Original signal after aplying a low pass filter with a hanning window\u0027)\n\np.plot(df[\u0027t\u0027], op_1)\n\nfft \u003d np.fft.fft(op_1)\nfreq \u003d np.fft.fftfreq(df[\u0027t\u0027].shape[-1], 1/samplerate)\n\nax \u003d p.subplot(312)\nax.set_xlabel(\u0027frequency[Hz]\u0027)\nax.set_ylabel(\u0027|Frecuency response|\u0027)\nax.set_title(\u0027Absolute value of the fft ov the original signal after aplying a low pass filter with a hanning window\u0027)\np.plot(freq, abs(fft))\n\nax \u003d p.subplot(313)\nax.set_xlabel(\u0027frequency[Hz]\u0027)\nax.set_ylabel(\u0027Spectral desity\u0027)\nax.set_title(\u0027Spectral density of the original signal after aplying a low pass filter with a hanning window\u0027)\np.psd(compressed_df[\u0027avg_filtered\u0027],  Fs \u003d samplerate)\n\nfig.tight_layout()\np.show()\n\ndf[\u0027avg_filtered\u0027] \u003d op_1\ndf[\u0027avg_filtered_fft\u0027] \u003d fft"
    },
    {
      "cell_type": "code",
      "execution_count": 13,
      "metadata": {
        "autoscroll": "auto"
      },
      "outputs": [],
      "source": "%python.ipython\n"
    },
    {
      "cell_type": "code",
      "execution_count": 14,
      "metadata": {
        "autoscroll": "auto"
      },
      "outputs": [],
      "source": "%python.ipython\ncompression_factor \u003d 8\ncompress_sample \u003d lambda sample, compression_factor: map(lambda tup: tup[0], filter(lambda tup: tup[1]%compression_factor \u003d\u003d 0, zip(sample, i.count(0,1))))\ncompress_sample_df \u003d lambda df, compression_factor: df[df.index % compression_factor \u003d\u003d 0]\n"
    },
    {
      "cell_type": "code",
      "execution_count": 15,
      "metadata": {
        "autoscroll": "auto"
      },
      "outputs": [],
      "source": "%python.ipython\n%matplotlib inline\n\ncompressed_df \u003d compress_sample_df(df, compression_factor).reset_index()\n\nfig \u003d p.figure(figsize\u003d(20,8))\nax \u003d p.subplot(311)\nax.set_xlabel(\u0027time [s]\u0027)\nax.set_ylabel(\u0027Amplitude\u0027)\nax.set_title(\u0027Filtered and decimated signal\u0027)\np.plot(compressed_df[\u0027t\u0027], compressed_df[\u0027avg_filtered\u0027])\n\nax \u003d p.subplot(313)\nax.set_title(\u0027Spectral density of the filtered and decimated signal\u0027)\np.psd(compressed_df[\u0027avg_filtered\u0027],  Fs \u003d samplerate)\n\nax \u003d p.subplot(312)\nax.set_xlabel(\u0027frequency[Hz]\u0027)\nax.set_ylabel(\u0027|Frecuency response|\u0027)\nax.set_title(\u0027Absolute value of the fft ov the filtered and decimated signal\u0027)\np.plot(freq, abs(df[\u0027avg_filtered_fft\u0027]))\n\nfig.tight_layout()\np.show()"
    },
    {
      "cell_type": "code",
      "execution_count": 16,
      "metadata": {
        "autoscroll": "auto"
      },
      "outputs": [],
      "source": "%python.ipython\n%matplotlib inline\n\ncompressed_df[\u0027fft\u0027] \u003d np.fft.fft(compressed_df[\u0027avg\u0027])\nfreq \u003d np.fft.fftfreq(compressed_df[\u0027t\u0027].shape[-1], 1/samplerate)\np.figure(figsize\u003d(20,8))\np.subplot(211)\np.plot(freq, abs(compressed_df[\u0027fft\u0027]))\n\ntotal_length \u003d freq.size\nwindow_length \u003d int(5512)\ncenter \u003d total_length/2\nwindow \u003d np.concatenate((np.zeros(int(center - window_length)), signal.windows.boxcar(window_length*2), np.zeros(int(total_length - center - window_length))), axis\u003dNone)\np.plot(np.roll(freq[:-1], int(freq[:-1].size/2)), 1000*window, color\u003d\u0027r\u0027)\np.show()"
    },
    {
      "cell_type": "code",
      "execution_count": 17,
      "metadata": {
        "autoscroll": "auto"
      },
      "outputs": [],
      "source": "%python.ipython\nw, h \u003d signal.freqz(b)\n\n\nfig, ax1 \u003d p.subplots(figsize\u003d(20,8))\nax1.set_title(\u0027Digital filter frequency response\u0027)\nax1.plot(w, 20 * np.log10(abs(h)), \u0027b\u0027)\nax1.set_ylabel(\u0027Amplitude [dB]\u0027, color\u003d\u0027b\u0027)\nax1.set_xlabel(\u0027Frequency [rad/sample]\u0027)\n\n\nax2 \u003d ax1.twinx()\nangles \u003d np.unwrap(np.angle(h))\nax2.plot(w, angles, \u0027g\u0027)\nax2.set_ylabel(\u0027Angle (radians)\u0027, color\u003d\u0027g\u0027)\nax2.grid()\nax2.axis(\u0027tight\u0027)\n\np.show()"
    },
    {
      "cell_type": "code",
      "execution_count": 18,
      "metadata": {
        "autoscroll": "auto"
      },
      "outputs": [],
      "source": "%python.ipython\nimport numpy as np\nimport matplotlib.pyplot as plt\nfrom  matplotlib import patches\nfrom matplotlib.figure import Figure\nfrom matplotlib import rcParams\n    \ndef zplane(b,a,filename\u003dNone):\n    \"\"\"Plot the complex z-plane given a transfer function.\n    \"\"\"\n\n    # get a figure/plot\n    ax \u003d plt.subplot(111)\n\n    # create the unit circle\n    uc \u003d patches.Circle((0,0), radius\u003d1, fill\u003dFalse,\n                        color\u003d\u0027black\u0027, ls\u003d\u0027dashed\u0027)\n    ax.add_patch(uc)\n\n    # The coefficients are less than 1, normalize the coeficients\n    if np.max(b) \u003e 1:\n        kn \u003d np.max(b)\n        b \u003d b/float(kn)\n    else:\n        kn \u003d 1\n\n    if np.max(a) \u003e 1:\n        kd \u003d np.max(a)\n        a \u003d a/float(kd)\n    else:\n        kd \u003d 1\n        \n    # Get the poles and zeros\n    p \u003d np.roots(a)\n    z \u003d np.roots(b)\n    k \u003d kn/float(kd)\n    \n    # Plot the zeros and set marker properties    \n    t1 \u003d plt.plot(z.real, z.imag, \u0027go\u0027, ms\u003d10)\n    plt.setp( t1, markersize\u003d10.0, markeredgewidth\u003d1.0,\n              markeredgecolor\u003d\u0027k\u0027, markerfacecolor\u003d\u0027g\u0027)\n\n    # Plot the poles and set marker properties\n    t2 \u003d plt.plot(p.real, p.imag, \u0027rx\u0027, ms\u003d10)\n    plt.setp( t2, markersize\u003d12.0, markeredgewidth\u003d3.0,\n              markeredgecolor\u003d\u0027r\u0027, markerfacecolor\u003d\u0027r\u0027)\n\n    ax.spines[\u0027left\u0027].set_position(\u0027center\u0027)\n    ax.spines[\u0027bottom\u0027].set_position(\u0027center\u0027)\n    ax.spines[\u0027right\u0027].set_visible(False)\n    ax.spines[\u0027top\u0027].set_visible(False)\n\n    # set the ticks\n    r \u003d 1.5; plt.axis(\u0027scaled\u0027); plt.axis([-r, r, -r, r])\n    ticks \u003d [-1, -.5, .5, 1]; plt.xticks(ticks); plt.yticks(ticks)\n\n    if filename is None:\n        plt.show()\n    else:\n        plt.savefig(filename)\n    \n\n    return z, p, k"
    },
    {
      "cell_type": "code",
      "execution_count": 19,
      "metadata": {
        "autoscroll": "auto"
      },
      "outputs": [],
      "source": "%python.ipython\np.figure(figsize\u003d(20,8))\nax \u003d p.subplot(111)\n\nax.set_title(\u0027Filter Zeroes and poles diagram\u0027)\nz, poles, k \u003d zplane(b,[1])\n\np.show()"
    },
    {
      "cell_type": "code",
      "execution_count": 20,
      "metadata": {
        "autoscroll": "auto"
      },
      "outputs": [],
      "source": "%python.ipython\n\np.figure(figsize\u003d(20,8))\nt,y \u003d signal.impulse(([1],b))\nax \u003d p.subplot(111)\nax.set_xlabel(\u0027time [s]\u0027)\nax.set_ylabel(\u0027Amplitude\u0027)\nax.set_title(\u0027Filter impulse response\u0027)\np.plot(t,y)\np.show()"
    },
    {
      "cell_type": "code",
      "execution_count": 21,
      "metadata": {
        "autoscroll": "auto"
      },
      "outputs": [],
      "source": "%python.ipython\n\np.figure(figsize\u003d(20,8))\n\nw, gd \u003d signal.group_delay(([1], b),fs \u003d samplerate)\nax \u003d p.subplot(111)\nax.set_xlabel(\u0027time [s]\u0027)\nax.set_ylabel(\u0027Amplitude\u0027)\nax.set_title(\u0027Filter group delay\u0027)\np.plot(w, gd)\np.show()"
    },
    {
      "cell_type": "raw",
      "metadata": {
        "format": "text/plain"
      },
      "source": "%angular\n"
    }
  ]
}
